{
 "cells": [
  {
   "cell_type": "markdown",
   "metadata": {},
   "source": [
    "# 線性幾何（Linear Geometry）"
   ]
  },
  {
   "cell_type": "markdown",
   "metadata": {},
   "source": [
    "![Creative Commons License](https://i.creativecommons.org/l/by/4.0/88x31.png)\n",
    "\n",
    "This work by Jephian Lin is licensed under a [Creative Commons Attribution 4.0 International License](http://creativecommons.org/licenses/by/4.0/)."
   ]
  },
  {
   "cell_type": "markdown",
   "metadata": {},
   "source": [
    "_Tested on SageMath version 8.7_"
   ]
  },
  {
   "cell_type": "markdown",
   "metadata": {},
   "source": [
    "## 點與線"
   ]
  },
  {
   "cell_type": "markdown",
   "metadata": {},
   "source": [
    "### 點\n",
    "空間的一個點  \n",
    "以及空間中的一個向量  \n",
    "都是由一組數對來表示"
   ]
  },
  {
   "cell_type": "markdown",
   "metadata": {},
   "source": [
    "$(1,2,3)$ 可以表示一個點  \n",
    "也可以表示起點在原點、終點在 $(1,2,3)$ 的一個向量"
   ]
  },
  {
   "cell_type": "markdown",
   "metadata": {},
   "source": [
    "比如說  \n",
    "$(1,2,3) + (3,2,1)$  \n",
    "可以解釋成：\n",
    "1. 從點 $(1,2,3)$ 往 $(3,2,1)$ 的方向移動，或是\n",
    "2. 向量 $(1,2,3)$ 和向量 $(3,2,1)$ 相加  \n",
    "\n",
    "結果是一樣的，但可以有不同的解釋法"
   ]
  },
  {
   "cell_type": "markdown",
   "metadata": {},
   "source": [
    "### 線\n",
    "向量也可以代表一個線段  "
   ]
  },
  {
   "cell_type": "markdown",
   "metadata": {},
   "source": [
    "比如說向量 $(1,2)$  \n",
    "可以代表 $(0,0)$ 到 $(1,2)$ 的這個線段  \n",
    "而這個線段的長度為 $\\sqrt{1^2 + 2^2} = \\sqrt{5}$"
   ]
  },
  {
   "cell_type": "code",
   "execution_count": 25,
   "metadata": {},
   "outputs": [
    {
     "data": {
      "text/plain": [
       "sqrt(5)"
      ]
     },
     "execution_count": 25,
     "metadata": {},
     "output_type": "execute_result"
    }
   ],
   "source": [
    "v = vector([1,2])\n",
    "v.norm()"
   ]
  },
  {
   "cell_type": "markdown",
   "metadata": {},
   "source": [
    "一般來說  \n",
    "向量 ${\\bf v} = (a_1,\\ldots,a_n)$ 的**長度**定為  \n",
    "$|{\\bf v}| = \\sqrt{a_1^2 + \\cdots + a_n^2}$"
   ]
  },
  {
   "cell_type": "code",
   "execution_count": 27,
   "metadata": {},
   "outputs": [
    {
     "name": "stdout",
     "output_type": "stream",
     "text": [
      "sqrt(55)\n",
      "sqrt(55)\n"
     ]
    }
   ],
   "source": [
    "l = [1,2,3,4,5]\n",
    "print(sqrt(sum(k^2 for k in l)))\n",
    "print(vector(l).norm())"
   ]
  },
  {
   "cell_type": "markdown",
   "metadata": {},
   "source": [
    "長度有以下的性質：\n",
    "1. $|{\\bf v}|\\geq 0$\n",
    "2. $|{\\bf v}| = 0$ if and only if ${\\bf v} = (0,\\ldots,0)$\n",
    "3. $|{\\bf v}| = \\sqrt{{\\bf v}\\cdot{\\bf v}}$\n",
    "4. $|{\\bf u} + {\\bf v}|^2 = |{\\bf u}|^2 + {\\bf u}\\cdot{\\bf v} + {\\bf v}\\cdot{\\bf u} + |{\\bf v}|^2$  \n",
    "   若 ${\\bf u}$ 和 ${\\bf v}$ 都是實數的向量，則 ${\\bf u}\\cdot{\\bf v} = {\\bf v}\\cdot{\\bf u}$"
   ]
  },
  {
   "cell_type": "markdown",
   "metadata": {},
   "source": [
    "來測試一下"
   ]
  },
  {
   "cell_type": "code",
   "execution_count": 32,
   "metadata": {},
   "outputs": [
    {
     "name": "stdout",
     "output_type": "stream",
     "text": [
      "|u + v|^2 = 48\n",
      "|u|^2 = 14\n",
      "u dot v = 10, v dot u = 10\n",
      "|v|^2 = 14\n"
     ]
    }
   ],
   "source": [
    "u = vector([1,2,3])\n",
    "v = vector([3,2,1])\n",
    "w = u + v\n",
    "print(\"|u + v|^2 = %s\"%(w.norm()^2))\n",
    "print(\"|u|^2 = %s\"%(u.norm()^2))\n",
    "print(\"u dot v = %s, v dot u = %s\"%(u.dot_product(v), v.dot_product(u)))\n",
    "print(\"|v|^2 = %s\"%(v.norm()^2))"
   ]
  },
  {
   "cell_type": "markdown",
   "metadata": {},
   "source": [
    "若 ${\\bf u} = (a_1,\\ldots,a_n)$  \n",
    "和 ${\\bf v} = (b_1,\\ldots,b_n)$\n",
    "為空間中兩點  \n",
    "則兩點之間的矩離為  \n",
    "$\\sqrt{(a_1-b_1)^2 + \\cdots (a_n-b_n)^2}$  \n",
    "剛好也就是 ${\\bf u} - {\\bf v}$ 的長度 $|{\\bf u} - {\\bf v}|$"
   ]
  },
  {
   "cell_type": "markdown",
   "metadata": {},
   "source": [
    "所以在儘管在高維度裡  \n",
    "我們還是知道  \n",
    "${\\bf u} = (2,2,1,1,1,1)$  \n",
    "${\\bf v} = (1,1,2,2,1,1)$  \n",
    "${\\bf w} = (1,1,1,1,2,2)$  \n",
    "是一個正三角形的三個頂點"
   ]
  },
  {
   "cell_type": "code",
   "execution_count": 35,
   "metadata": {},
   "outputs": [
    {
     "name": "stdout",
     "output_type": "stream",
     "text": [
      "|u - v|^2 = 4\n",
      "|v - w|^2 = 4\n",
      "|w - u|^2 = 4\n"
     ]
    }
   ],
   "source": [
    "u = vector([2,2,1,1,1,1])\n",
    "v = vector([1,1,2,2,1,1])\n",
    "w = vector([1,1,1,1,2,2])\n",
    "print('|u - v|^2 = %s'%(u-v).norm()^2)\n",
    "print('|v - w|^2 = %s'%(v-w).norm()^2)\n",
    "print('|w - u|^2 = %s'%(w-u).norm()^2)"
   ]
  },
  {
   "cell_type": "markdown",
   "metadata": {},
   "source": [
    "而  \n",
    "${\\bf u} = (2,2,1,1,1,1)$  \n",
    "${\\bf v} = (1,1,1,1,1,1)$  \n",
    "${\\bf w} = (1,1,1,1,2,2)$  \n",
    "是一個等腰直角三角形的三個頂點"
   ]
  },
  {
   "cell_type": "code",
   "execution_count": 36,
   "metadata": {},
   "outputs": [
    {
     "name": "stdout",
     "output_type": "stream",
     "text": [
      "|u - v|^2 = 2\n",
      "|v - w|^2 = 2\n",
      "|w - u|^2 = 4\n"
     ]
    }
   ],
   "source": [
    "u = vector([2,2,1,1,1,1])\n",
    "v = vector([1,1,1,1,1,1])\n",
    "w = vector([1,1,1,1,2,2])\n",
    "print('|u - v|^2 = %s'%(u-v).norm()^2)\n",
    "print('|v - w|^2 = %s'%(v-w).norm()^2)\n",
    "print('|w - u|^2 = %s'%(w-u).norm()^2)"
   ]
  },
  {
   "cell_type": "markdown",
   "metadata": {},
   "source": [
    "#### 餘絃定理\n",
    "若一三角形的三邊長為 $a$, $b$, $c$  \n",
    "且 $a$, $b$ 兩邊的夾角為 $\\theta$  \n",
    "則 $a^2 + b^2 - 2ab\\cos\\theta = c^2$"
   ]
  },
  {
   "cell_type": "markdown",
   "metadata": {},
   "source": [
    "當 $\\theta = 90^\\circ$ 時  \n",
    "$\\cos\\theta = 0$ 而餘絃定理可以推導出畢氏定理"
   ]
  },
  {
   "cell_type": "markdown",
   "metadata": {},
   "source": [
    "更重要的是  \n",
    "只要知道三邊長  \n",
    "我們就知道夾角的大小  \n",
    "$\\cos\\theta = \\frac{a^2 + b^2 - c^2}{2ab}$"
   ]
  },
  {
   "cell_type": "markdown",
   "metadata": {},
   "source": [
    "因此在高維度中  \n",
    "我們也可以算出 $\\overline{{\\bf v}{\\bf u}}$ 和 $\\overline{{\\bf v}{\\bf w}}$ 的夾角 $\\theta$ 為  \n",
    "$\\cos\\theta = \\frac{|{\\bf u} - {\\bf v}|^2 + |{\\bf w} - {\\bf v}|^2 - |{\\bf u} - {\\bf w}|^2}{2|{\\bf u} - {\\bf v}||{\\bf w} - {\\bf v}|}$"
   ]
  },
  {
   "cell_type": "markdown",
   "metadata": {},
   "source": [
    "正三角形夾角為 $\\theta = 60^\\circ$  \n",
    "$\\cos\\theta = 1/2$"
   ]
  },
  {
   "cell_type": "code",
   "execution_count": 39,
   "metadata": {},
   "outputs": [
    {
     "name": "stdout",
     "output_type": "stream",
     "text": [
      "a = |u - v| = 2\n",
      "b = |w - v| = 2\n",
      "c = |u - w| = 2\n",
      "cos theta = 1/2\n"
     ]
    }
   ],
   "source": [
    "u = vector([2,2,1,1,1,1])\n",
    "v = vector([1,1,2,2,1,1])\n",
    "w = vector([1,1,1,1,2,2])\n",
    "a = (u-v).norm()\n",
    "b = (w-v).norm()\n",
    "c = (u-w).norm()\n",
    "print('a = |u - v| = %s'%(u-v).norm())\n",
    "print('b = |w - v| = %s'%(w-v).norm())\n",
    "print('c = |u - w| = %s'%(u-w).norm())\n",
    "print('cos theta = %s'%((a^2 + b^2 - c^2)/2/a/b))"
   ]
  },
  {
   "cell_type": "markdown",
   "metadata": {},
   "source": [
    "等腰直角三角形的直角夾角為 $\\theta = 90^\\circ$  \n",
    "$\\cos\\theta = 0$"
   ]
  },
  {
   "cell_type": "code",
   "execution_count": 40,
   "metadata": {
    "scrolled": true
   },
   "outputs": [
    {
     "name": "stdout",
     "output_type": "stream",
     "text": [
      "a = |u - v| = sqrt(2)\n",
      "b = |w - v| = sqrt(2)\n",
      "c = |u - w| = 2\n",
      "cos theta = 0\n"
     ]
    }
   ],
   "source": [
    "u = vector([2,2,1,1,1,1])\n",
    "v = vector([1,1,1,1,1,1])\n",
    "w = vector([1,1,1,1,2,2])\n",
    "a = (u-v).norm()\n",
    "b = (w-v).norm()\n",
    "c = (u-w).norm()\n",
    "print('a = |u - v| = %s'%(u-v).norm())\n",
    "print('b = |w - v| = %s'%(w-v).norm())\n",
    "print('c = |u - w| = %s'%(u-w).norm())\n",
    "print('cos theta = %s'%((a^2 + b^2 - c^2)/2/a/b))"
   ]
  },
  {
   "cell_type": "markdown",
   "metadata": {},
   "source": [
    "##### 老師有沒有騙人？\n",
    "二維、三維向量的長度是依照*經驗法則*來定義的  \n",
    "高維度的向量是*感覺、好像、應該*這樣定義  \n",
    "（畢竟沒人看過四維向量）  \n",
    "高維度的三角形真的符合餘絃定理嗎？  \n",
    "或是餘絃定理算出來的 $\\cos\\theta$ 是合理的嗎？  \n",
    "（比如說 $|\\cos\\theta|\\leq 1$？）"
   ]
  },
  {
   "cell_type": "markdown",
   "metadata": {},
   "source": [
    "## 三角不等式、柯西不等式"
   ]
  },
  {
   "cell_type": "markdown",
   "metadata": {},
   "source": [
    "考慮一個三角形  \n",
    "方便起見，將一頂點置於原點  \n",
    "所以假設這三角形的三頂點為  \n",
    "原點、${\\bf u}$、${\\bf v}$"
   ]
  },
  {
   "cell_type": "markdown",
   "metadata": {},
   "source": [
    "如此一來  \n",
    "三角形的三邊長為  \n",
    "$a = |{\\bf u}|$  \n",
    "$b = |{\\bf v}|$  \n",
    "$c = |{\\bf u} - {\\bf v}|$  \n",
    "而令原點所在的夾角為 $\\theta$"
   ]
  },
  {
   "cell_type": "markdown",
   "metadata": {},
   "source": [
    "若餘絃定理在高維度都正確  \n",
    "則 $\\cos\\theta = \\frac{a^2 + b^2 - c^2}{2ab} = \\frac{{\\bf u}\\cdot{\\bf v}}{|{\\bf u}||{\\bf v}|}$  \n",
    "（認真算看看第二個等式）"
   ]
  },
  {
   "cell_type": "markdown",
   "metadata": {},
   "source": [
    "#### 三角不等式\n",
    "若 $a$, $b$, $c$ 為三角形的三邊長  \n",
    "則 $a+b\\geq c$"
   ]
  },
  {
   "cell_type": "code",
   "execution_count": 2,
   "metadata": {},
   "outputs": [
    {
     "name": "stdout",
     "output_type": "stream",
     "text": [
      "a = 2*sqrt(3)\n",
      "b = 2*sqrt(3)\n",
      "a+b = 4*sqrt(3)\n",
      "c = 2\n"
     ]
    }
   ],
   "source": [
    "u = vector([2,2,1,1,1,1])\n",
    "v = vector([1,1,2,2,1,1])\n",
    "print('a = %s'%u.norm())\n",
    "print('b = %s'%v.norm())\n",
    "print('a+b = %s'%(u.norm() + v.norm()))\n",
    "print('c = %s'%(u-v).norm())"
   ]
  },
  {
   "cell_type": "markdown",
   "metadata": {},
   "source": [
    "#### 柯西不等式\n",
    "若 ${\\bf u}$, ${\\bf v}$ 為兩向量  \n",
    "則 ${\\bf u}\\cdot{\\bf v} \\leq |{\\bf u}||{\\bf v}|$  \n",
    "\n",
    "等價的敘述：\n",
    "對任意的實數 $a_i$, $b_i$  \n",
    "$(a_1b_1 + \\cdots + a_nb_n)^2 \\leq (a_1^2 + \\cdots + a_n^2)(b_1^2 + \\cdots + b_n^2)$"
   ]
  },
  {
   "cell_type": "code",
   "execution_count": 3,
   "metadata": {},
   "outputs": [
    {
     "name": "stdout",
     "output_type": "stream",
     "text": [
      "u dot v = 10\n",
      "|u| = 2*sqrt(3)\n",
      "|v| = 2*sqrt(3)\n",
      "|u||v| = 12\n"
     ]
    }
   ],
   "source": [
    "u = vector([2,2,1,1,1,1])\n",
    "v = vector([1,1,2,2,1,1])\n",
    "print('u dot v = %s'%u.dot_product(v))\n",
    "print('|u| = %s'%u.norm())\n",
    "print('|v| = %s'%v.norm())\n",
    "print('|u||v| = %s'%(u.norm() * v.norm()))"
   ]
  },
  {
   "cell_type": "markdown",
   "metadata": {},
   "source": [
    "換個角度想  \n",
    "柯西不等式證明了  \n",
    "$-1\\leq\\frac{{\\bf u}\\cdot{\\bf v}}{|{\\bf u}||{\\bf v}|}\\leq 1$  \n",
    "因此將  \n",
    "$\\cos\\theta$ 定義成 $\\frac{{\\bf u}\\cdot{\\bf v}}{|{\\bf u}||{\\bf v}|}$ 是一個合理的選擇"
   ]
  },
  {
   "cell_type": "markdown",
   "metadata": {},
   "source": [
    "#### 數學模型的建構順序\n",
    "1. $|{\\bf u}|^2 \\pm 2{\\bf u}\\cdot {\\bf v} + |{\\bf v}|^2 = |{\\bf u} \\pm {\\bf v}|^2$ 可以用代數計算驗證\n",
    "2. 由於有柯西不等式，定義 $\\cos\\theta$ 使得 ${\\bf u}\\cdot{\\bf v} = |{\\bf u}||{\\bf v}|\\cos\\theta$，也藉由 $\\cos\\theta$ 來定義夾角 $\\theta$  \n",
    "3. 因此高維度裡也會有餘絃定理 $|{\\bf u}|^2 - 2|{\\bf u}||{\\bf v}|\\cos\\theta + |{\\bf v}|^2 = |{\\bf u} - {\\bf v}|^2$"
   ]
  },
  {
   "cell_type": "markdown",
   "metadata": {},
   "source": [
    "所以利用 ${\\bf u}\\cdot{\\bf v} = |{\\bf u}||{\\bf v}|\\cos\\theta$ 來證明柯西不等式是一個循環論證。"
   ]
  },
  {
   "cell_type": "markdown",
   "metadata": {},
   "source": [
    "## 面、超平面、仿射平面"
   ]
  },
  {
   "cell_type": "markdown",
   "metadata": {},
   "source": [
    "### 線性組合\n",
    "若 ${\\bf u}_1,\\ldots, {\\bf u}_k$ 為同一空間中的 $k$ 個向量  \n",
    "則任何 $c_1{\\bf u}_1 + \\cdots + c_k{\\bf u}_k$ 形式的向量  \n",
    "稱作它們的**線性組合**  \n",
    "其中 $c_1,\\ldots,c_k$ 為任意實數"
   ]
  },
  {
   "cell_type": "markdown",
   "metadata": {},
   "source": [
    "令 $S = \\{{\\bf u}_1,\\ldots, {\\bf u}_k\\}$  \n",
    "定義 \n",
    "$\\operatorname{span}(S) = \\{c_1{\\bf u}_1 + \\cdots + c_k{\\bf u}_k: c_1,\\ldots,c_k\\in\\mathbb{R}\\}$  \n",
    "為所有線性組合組成的集合"
   ]
  },
  {
   "cell_type": "markdown",
   "metadata": {},
   "source": [
    "若 $S = \\{{\\bf u}_1\\}$  \n",
    "則 $\\operatorname{span}(S)$ 通常為一條通過原點的直線  \n",
    "（有可能不是一直線嗎？）"
   ]
  },
  {
   "cell_type": "code",
   "execution_count": null,
   "metadata": {},
   "outputs": [],
   "source": [
    "# 2d line"
   ]
  },
  {
   "cell_type": "markdown",
   "metadata": {},
   "source": [
    "若 $S = \\{{\\bf u}_1, {\\bf u}_2\\}$  \n",
    "則 $\\operatorname{span}(S)$ 通常為一個通過原點的平面  \n",
    "（有可能不是一平面嗎？）"
   ]
  },
  {
   "cell_type": "code",
   "execution_count": 3,
   "metadata": {},
   "outputs": [],
   "source": [
    "# 2d plane"
   ]
  },
  {
   "cell_type": "code",
   "execution_count": 2,
   "metadata": {},
   "outputs": [],
   "source": [
    "# 3d plane"
   ]
  },
  {
   "cell_type": "markdown",
   "metadata": {},
   "source": [
    "同樣的  \n",
    "若 $S = \\{{\\bf u}_1, {\\bf u}_2, {\\bf u}_3\\}$  \n",
    "則 $\\operatorname{span}(S)$ 通常為一個通過原點的*三維空間*  "
   ]
  },
  {
   "cell_type": "markdown",
   "metadata": {},
   "source": [
    "若 $S = \\{{\\bf u}_1, \\ldots, {\\bf u}_k\\}$  \n",
    "則 $\\operatorname{span}(S)$ 通常為一個通過原點的 *$k$ 維空間*（沒有扁掉的話）  "
   ]
  },
  {
   "cell_type": "markdown",
   "metadata": {},
   "source": [
    "### 超平面\n",
    "令 $\\mathbb{R}^n$ 為所有 $n$ 維向量的集合  \n",
    "在 $\\mathbb{R}^n$ 中的 $n-1$ 條向量 $S = \\{{\\bf u}_1, \\ldots, {\\bf u}_{n-1}\\}$  \n",
    "如果 $\\operatorname{span}(S)$ 沒有扁掉的話  \n",
    "則 $\\operatorname{span}(S)$ 稱為一個**超平面**"
   ]
  },
  {
   "cell_type": "markdown",
   "metadata": {},
   "source": [
    "$\\mathbb{R}^2$ 中的超平面為通過原點的直線  \n",
    "$\\mathbb{R}^3$ 中的超平面為通過原點的平面  \n",
    "$\\qquad\\vdots$  \n",
    "$\\mathbb{R}^n$ 中的超平面為通過原點的 $n-1$ 維空間  "
   ]
  },
  {
   "cell_type": "code",
   "execution_count": null,
   "metadata": {},
   "outputs": [],
   "source": []
  },
  {
   "cell_type": "markdown",
   "metadata": {},
   "source": [
    "## 動手試試看"
   ]
  },
  {
   "cell_type": "markdown",
   "metadata": {},
   "source": [
    "##### 練習\n",
    "若 $v_1 = (3,5)$ 且 $v_2 = (-2,-4)$。  \n",
    "計算 $10 v_1 + 5 v_2$。"
   ]
  },
  {
   "cell_type": "code",
   "execution_count": null,
   "metadata": {},
   "outputs": [],
   "source": [
    "### your answer here"
   ]
  }
 ],
 "metadata": {
  "kernelspec": {
   "display_name": "SageMath 8.1",
   "language": "",
   "name": "sagemath"
  },
  "language_info": {
   "codemirror_mode": {
    "name": "ipython",
    "version": 2
   },
   "file_extension": ".py",
   "mimetype": "text/x-python",
   "name": "python",
   "nbconvert_exporter": "python",
   "pygments_lexer": "ipython2",
   "version": "2.7.17"
  }
 },
 "nbformat": 4,
 "nbformat_minor": 2
}
