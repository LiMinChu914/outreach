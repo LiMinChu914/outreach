{
 "cells": [
  {
   "cell_type": "markdown",
   "metadata": {},
   "source": [
    "# 函數與其圖形（Functions and Plotting）"
   ]
  },
  {
   "cell_type": "markdown",
   "metadata": {},
   "source": [
    "![Creative Commons License](https://i.creativecommons.org/l/by/4.0/88x31.png)\n",
    "\n",
    "This work by Jephian Lin is licensed under a [Creative Commons Attribution 4.0 International License](http://creativecommons.org/licenses/by/4.0/)."
   ]
  },
  {
   "cell_type": "markdown",
   "metadata": {},
   "source": [
    "_Tested on SageMath version 8.7_"
   ]
  },
  {
   "cell_type": "markdown",
   "metadata": {},
   "source": [
    "## 函數\n",
    "數學中的函數連繫了前因和後果\n",
    "\n",
    "相同的前因只會有一種後果\n",
    "\n",
    "但不同的前因可能得到同樣的後果"
   ]
  },
  {
   "cell_type": "markdown",
   "metadata": {},
   "source": [
    "### 有限個數的函數與字典（dictionary）  \n",
    "有限個數的函數可以用**字典**（dictionary）結構來記綠"
   ]
  },
  {
   "cell_type": "markdown",
   "metadata": {},
   "source": [
    "一個字典包含了許多**索引**（key）  \n",
    "許多**值**（value）  \n",
    "以及它們的對應關係  \n",
    "`{key1: value1, key2: value2, ...}`\n",
    "\n",
    "回顧：列表用的是中括號（brackets）、字典用的是大括號（braces）"
   ]
  },
  {
   "cell_type": "markdown",
   "metadata": {},
   "source": [
    "若 `d` 是一個字典  \n",
    "可以用 `d[key]` 來得到對應到索引為 `key` 的值"
   ]
  },
  {
   "cell_type": "code",
   "execution_count": 47,
   "metadata": {},
   "outputs": [
    {
     "data": {
      "text/plain": [
       "'one'"
      ]
     },
     "execution_count": 47,
     "metadata": {},
     "output_type": "execute_result"
    }
   ],
   "source": [
    "d = {1:'one', 2:'two', 3:'three'}\n",
    "d[1]"
   ]
  },
  {
   "cell_type": "markdown",
   "metadata": {},
   "source": [
    "若索引有重覆  \n",
    "舊的會被洗掉"
   ]
  },
  {
   "cell_type": "code",
   "execution_count": 48,
   "metadata": {},
   "outputs": [
    {
     "data": {
      "text/plain": [
       "'first'"
      ]
     },
     "execution_count": 48,
     "metadata": {},
     "output_type": "execute_result"
    }
   ],
   "source": [
    "d = {1:'one', 1:'first' ,2:'two', 3:'three'}\n",
    "d[1]"
   ]
  },
  {
   "cell_type": "markdown",
   "metadata": {},
   "source": [
    "但值可以重覆沒關係"
   ]
  },
  {
   "cell_type": "code",
   "execution_count": 49,
   "metadata": {},
   "outputs": [
    {
     "data": {
      "text/plain": [
       "'number'"
      ]
     },
     "execution_count": 49,
     "metadata": {},
     "output_type": "execute_result"
    }
   ],
   "source": [
    "d = {1:'number', 2:'number', 3:'number'}\n",
    "d[1]"
   ]
  },
  {
   "cell_type": "markdown",
   "metadata": {},
   "source": [
    "在函數中  \n",
    "所有可以輸入的索引叫做**定義域**（domain）"
   ]
  },
  {
   "cell_type": "code",
   "execution_count": 50,
   "metadata": {},
   "outputs": [
    {
     "data": {
      "text/plain": [
       "[1, 2, 3]"
      ]
     },
     "execution_count": 50,
     "metadata": {},
     "output_type": "execute_result"
    }
   ],
   "source": [
    "d = {1:'one', 2:'two', 3:'three'}\n",
    "d.keys()"
   ]
  },
  {
   "cell_type": "markdown",
   "metadata": {},
   "source": [
    "在函數中  \n",
    "所有可能的輸出值叫做**值域**（range）"
   ]
  },
  {
   "cell_type": "code",
   "execution_count": 51,
   "metadata": {},
   "outputs": [
    {
     "data": {
      "text/plain": [
       "['one', 'two', 'three']"
      ]
     },
     "execution_count": 51,
     "metadata": {},
     "output_type": "execute_result"
    }
   ],
   "source": [
    "d = {1:'one', 2:'two', 3:'three'}\n",
    "d.values()"
   ]
  },
  {
   "cell_type": "markdown",
   "metadata": {},
   "source": [
    "### 實數上的函數與符號表示式\n",
    "實數上有無窮個點  \n",
    "所以無法用字典來表示實數上的函數  \n",
    "\n",
    "於是我們用一個變數 `x`  \n",
    "來描述輸入和輸出的對應關係  \n",
    "（像是 `x |--> x^2`）"
   ]
  },
  {
   "cell_type": "markdown",
   "metadata": {},
   "source": [
    "Sage 中已經預設 `x` 為一個變數  \n",
    "然而若有須要還是可以重新設定一次  "
   ]
  },
  {
   "cell_type": "markdown",
   "metadata": {},
   "source": [
    "`a = var('b')`  \n",
    "意思是設定一個數學上的變數，稱作 `b`  \n",
    "並將其儲存在電腦裡的 `a` 這個位置  \n",
    "\n",
    "平常沒事兩個名字一樣就好"
   ]
  },
  {
   "cell_type": "code",
   "execution_count": 54,
   "metadata": {},
   "outputs": [],
   "source": [
    "x = var('x')"
   ]
  },
  {
   "cell_type": "markdown",
   "metadata": {},
   "source": [
    "利用符號表示式來定義一個函數"
   ]
  },
  {
   "cell_type": "code",
   "execution_count": 55,
   "metadata": {},
   "outputs": [
    {
     "data": {
      "text/plain": [
       "4"
      ]
     },
     "execution_count": 55,
     "metadata": {},
     "output_type": "execute_result"
    }
   ],
   "source": [
    "f = x^2\n",
    "f(2)"
   ]
  },
  {
   "cell_type": "markdown",
   "metadata": {},
   "source": [
    "若使用 `f(x) = x^2`  \n",
    "則可以明確地告訴 Sage 主要變數是哪一個  \n",
    "（`f = x^2` 和 `f(x) = x^2` 兩種用法在單變數時幾乎一樣）"
   ]
  },
  {
   "cell_type": "code",
   "execution_count": 56,
   "metadata": {},
   "outputs": [
    {
     "data": {
      "text/plain": [
       "4"
      ]
     },
     "execution_count": 56,
     "metadata": {},
     "output_type": "execute_result"
    }
   ],
   "source": [
    "f(x) = x^2\n",
    "f(2)"
   ]
  },
  {
   "cell_type": "markdown",
   "metadata": {},
   "source": [
    "只有在輸入變數多的時候  \n",
    "有些許的差別"
   ]
  },
  {
   "cell_type": "code",
   "execution_count": 57,
   "metadata": {},
   "outputs": [
    {
     "data": {
      "text/plain": [
       "y^2 + 4"
      ]
     },
     "execution_count": 57,
     "metadata": {},
     "output_type": "execute_result"
    }
   ],
   "source": [
    "x, y = var('x y')\n",
    "f(x) = x^2 + y^2\n",
    "f(2)"
   ]
  },
  {
   "cell_type": "code",
   "execution_count": 58,
   "metadata": {},
   "outputs": [
    {
     "data": {
      "text/plain": [
       "x^2 + 4"
      ]
     },
     "execution_count": 58,
     "metadata": {},
     "output_type": "execute_result"
    }
   ],
   "source": [
    "x, y = var('x y')\n",
    "f(y) = x^2 + y^2\n",
    "f(2)"
   ]
  },
  {
   "cell_type": "code",
   "execution_count": 94,
   "metadata": {},
   "outputs": [
    {
     "data": {
      "text/plain": [
       "25"
      ]
     },
     "execution_count": 94,
     "metadata": {},
     "output_type": "execute_result"
    }
   ],
   "source": [
    "x, y = var('x y')\n",
    "f(x,y) = x^2 + y^2\n",
    "f(3,4)"
   ]
  },
  {
   "cell_type": "markdown",
   "metadata": {},
   "source": [
    "數學中的函數  \n",
    "是可以相加、相乘、或是合成"
   ]
  },
  {
   "cell_type": "code",
   "execution_count": 59,
   "metadata": {},
   "outputs": [
    {
     "data": {
      "text/plain": [
       "x |--> x^2 + x + 1"
      ]
     },
     "execution_count": 59,
     "metadata": {},
     "output_type": "execute_result"
    }
   ],
   "source": [
    "f(x) = x^2\n",
    "g(x) = x+1\n",
    "f + g"
   ]
  },
  {
   "cell_type": "code",
   "execution_count": 60,
   "metadata": {},
   "outputs": [
    {
     "data": {
      "text/plain": [
       "x |--> (x + 1)*x^2"
      ]
     },
     "execution_count": 60,
     "metadata": {},
     "output_type": "execute_result"
    }
   ],
   "source": [
    "f(x) = x^2\n",
    "g(x) = x+1\n",
    "f * g"
   ]
  },
  {
   "cell_type": "code",
   "execution_count": 61,
   "metadata": {},
   "outputs": [
    {
     "data": {
      "text/plain": [
       "(x + 1)^2"
      ]
     },
     "execution_count": 61,
     "metadata": {},
     "output_type": "execute_result"
    }
   ],
   "source": [
    "f(x) = x^2\n",
    "g(x) = x+1\n",
    "f(g(x))"
   ]
  },
  {
   "cell_type": "markdown",
   "metadata": {},
   "source": [
    "### 程式中的函數與 lambda 運算式\n",
    "程式中的函數（又叫作函式）  \n",
    "只在意輸入和輸出  \n",
    "中間的關係不見得一定要用變數來表示"
   ]
  },
  {
   "cell_type": "markdown",
   "metadata": {},
   "source": [
    "`lambda` 運算式可以輕鬆地定義一個程式函數  \n",
    "`lambda input: output`  "
   ]
  },
  {
   "cell_type": "markdown",
   "metadata": {},
   "source": [
    "舉例來說，  \n",
    "`f = lambda k: k^2`  \n",
    "和  \n",
    "```Python\n",
    "def f(k):\n",
    "    return k^2\n",
    "```\n",
    "是一樣的  \n",
    "\n",
    "用 `lambda` 運算式較為簡潔  \n",
    "而且不一定要為函數命名"
   ]
  },
  {
   "cell_type": "code",
   "execution_count": 62,
   "metadata": {},
   "outputs": [
    {
     "data": {
      "text/plain": [
       "9"
      ]
     },
     "execution_count": 62,
     "metadata": {},
     "output_type": "execute_result"
    }
   ],
   "source": [
    "f = lambda k: k^2\n",
    "f(3)"
   ]
  },
  {
   "cell_type": "markdown",
   "metadata": {},
   "source": [
    "程式中的函數並沒有常用的加法"
   ]
  },
  {
   "cell_type": "code",
   "execution_count": 63,
   "metadata": {},
   "outputs": [
    {
     "ename": "TypeError",
     "evalue": "unsupported operand type(s) for +: 'function' and 'function'",
     "output_type": "error",
     "traceback": [
      "\u001b[0;31m---------------------------------------------------------------------------\u001b[0m",
      "\u001b[0;31mTypeError\u001b[0m                                 Traceback (most recent call last)",
      "\u001b[0;32m<ipython-input-63-c1a25f5892b7>\u001b[0m in \u001b[0;36m<module>\u001b[0;34m()\u001b[0m\n\u001b[1;32m      1\u001b[0m \u001b[0mf\u001b[0m \u001b[0;34m=\u001b[0m \u001b[0;32mlambda\u001b[0m \u001b[0mk\u001b[0m\u001b[0;34m:\u001b[0m \u001b[0mk\u001b[0m\u001b[0;34m**\u001b[0m\u001b[0mInteger\u001b[0m\u001b[0;34m(\u001b[0m\u001b[0;36m2\u001b[0m\u001b[0;34m)\u001b[0m\u001b[0;34m\u001b[0m\u001b[0m\n\u001b[0;32m----> 2\u001b[0;31m \u001b[0mf\u001b[0m \u001b[0;34m+\u001b[0m \u001b[0mf\u001b[0m\u001b[0;34m\u001b[0m\u001b[0m\n\u001b[0m",
      "\u001b[0;31mTypeError\u001b[0m: unsupported operand type(s) for +: 'function' and 'function'"
     ]
    }
   ],
   "source": [
    "f = lambda k: k^2\n",
    "f + f"
   ]
  },
  {
   "cell_type": "markdown",
   "metadata": {},
   "source": [
    "函數可以**被呼叫**（callable）  \n",
    "但無法用索引找尋對應值"
   ]
  },
  {
   "cell_type": "code",
   "execution_count": 13,
   "metadata": {},
   "outputs": [
    {
     "data": {
      "text/plain": [
       "9"
      ]
     },
     "execution_count": 13,
     "metadata": {},
     "output_type": "execute_result"
    }
   ],
   "source": [
    "f = lambda k: k^2\n",
    "f(3)"
   ]
  },
  {
   "cell_type": "code",
   "execution_count": 14,
   "metadata": {},
   "outputs": [
    {
     "ename": "TypeError",
     "evalue": "'function' object has no attribute '__getitem__'",
     "output_type": "error",
     "traceback": [
      "\u001b[0;31m---------------------------------------------------------------------------\u001b[0m",
      "\u001b[0;31mTypeError\u001b[0m                                 Traceback (most recent call last)",
      "\u001b[0;32m<ipython-input-14-d0e93e823e30>\u001b[0m in \u001b[0;36m<module>\u001b[0;34m()\u001b[0m\n\u001b[1;32m      1\u001b[0m \u001b[0mf\u001b[0m \u001b[0;34m=\u001b[0m \u001b[0;32mlambda\u001b[0m \u001b[0mk\u001b[0m\u001b[0;34m:\u001b[0m \u001b[0mk\u001b[0m\u001b[0;34m**\u001b[0m\u001b[0mInteger\u001b[0m\u001b[0;34m(\u001b[0m\u001b[0;36m2\u001b[0m\u001b[0;34m)\u001b[0m\u001b[0;34m\u001b[0m\u001b[0m\n\u001b[0;32m----> 2\u001b[0;31m \u001b[0mf\u001b[0m\u001b[0;34m[\u001b[0m\u001b[0mInteger\u001b[0m\u001b[0;34m(\u001b[0m\u001b[0;36m3\u001b[0m\u001b[0;34m)\u001b[0m\u001b[0;34m]\u001b[0m\u001b[0;34m\u001b[0m\u001b[0m\n\u001b[0m",
      "\u001b[0;31mTypeError\u001b[0m: 'function' object has no attribute '__getitem__'"
     ]
    }
   ],
   "source": [
    "f = lambda k: k^2\n",
    "f[3]"
   ]
  },
  {
   "cell_type": "markdown",
   "metadata": {},
   "source": [
    "字典及列表可以使用索引  \n",
    "但無法被呼叫"
   ]
  },
  {
   "cell_type": "code",
   "execution_count": 64,
   "metadata": {},
   "outputs": [
    {
     "data": {
      "text/plain": [
       "'one'"
      ]
     },
     "execution_count": 64,
     "metadata": {},
     "output_type": "execute_result"
    }
   ],
   "source": [
    "d = {1:'one', 2:'two', 3:'three'}\n",
    "d[1]"
   ]
  },
  {
   "cell_type": "code",
   "execution_count": 65,
   "metadata": {},
   "outputs": [
    {
     "ename": "TypeError",
     "evalue": "'dict' object is not callable",
     "output_type": "error",
     "traceback": [
      "\u001b[0;31m---------------------------------------------------------------------------\u001b[0m",
      "\u001b[0;31mTypeError\u001b[0m                                 Traceback (most recent call last)",
      "\u001b[0;32m<ipython-input-65-0418d819a13c>\u001b[0m in \u001b[0;36m<module>\u001b[0;34m()\u001b[0m\n\u001b[1;32m      1\u001b[0m \u001b[0md\u001b[0m \u001b[0;34m=\u001b[0m \u001b[0;34m{\u001b[0m\u001b[0mInteger\u001b[0m\u001b[0;34m(\u001b[0m\u001b[0;36m1\u001b[0m\u001b[0;34m)\u001b[0m\u001b[0;34m:\u001b[0m\u001b[0;34m'one'\u001b[0m\u001b[0;34m,\u001b[0m \u001b[0mInteger\u001b[0m\u001b[0;34m(\u001b[0m\u001b[0;36m2\u001b[0m\u001b[0;34m)\u001b[0m\u001b[0;34m:\u001b[0m\u001b[0;34m'two'\u001b[0m\u001b[0;34m,\u001b[0m \u001b[0mInteger\u001b[0m\u001b[0;34m(\u001b[0m\u001b[0;36m3\u001b[0m\u001b[0;34m)\u001b[0m\u001b[0;34m:\u001b[0m\u001b[0;34m'three'\u001b[0m\u001b[0;34m}\u001b[0m\u001b[0;34m\u001b[0m\u001b[0m\n\u001b[0;32m----> 2\u001b[0;31m \u001b[0md\u001b[0m\u001b[0;34m(\u001b[0m\u001b[0mInteger\u001b[0m\u001b[0;34m(\u001b[0m\u001b[0;36m1\u001b[0m\u001b[0;34m)\u001b[0m\u001b[0;34m)\u001b[0m\u001b[0;34m\u001b[0m\u001b[0m\n\u001b[0m",
      "\u001b[0;31mTypeError\u001b[0m: 'dict' object is not callable"
     ]
    }
   ],
   "source": [
    "d = {1:'one', 2:'two', 3:'three'}\n",
    "d(1)"
   ]
  },
  {
   "cell_type": "markdown",
   "metadata": {},
   "source": [
    "有須要的話  \n",
    "字典和函數可以互相轉換"
   ]
  },
  {
   "cell_type": "code",
   "execution_count": 66,
   "metadata": {},
   "outputs": [
    {
     "data": {
      "text/plain": [
       "'one'"
      ]
     },
     "execution_count": 66,
     "metadata": {},
     "output_type": "execute_result"
    }
   ],
   "source": [
    "d = {1:'one', 2:'two', 3:'three'}\n",
    "f = lambda k: d[k]\n",
    "f(1)"
   ]
  },
  {
   "cell_type": "code",
   "execution_count": 67,
   "metadata": {},
   "outputs": [
    {
     "data": {
      "text/plain": [
       "9"
      ]
     },
     "execution_count": 67,
     "metadata": {},
     "output_type": "execute_result"
    }
   ],
   "source": [
    "f = lambda k: k^2\n",
    "d = {k: k^2 for k in range(1,4)}\n",
    "d[3]"
   ]
  },
  {
   "cell_type": "markdown",
   "metadata": {},
   "source": [
    "### 三角函數\n",
    "常用的三角函數有 $\\sin$、$\\cos$、以及 $\\tan$  \n",
    "~~而且通常人們不記得它們的中文叫什麼~~  \n",
    "\n",
    "Sage 會儘量回傳確切的函數值"
   ]
  },
  {
   "cell_type": "code",
   "execution_count": 69,
   "metadata": {},
   "outputs": [
    {
     "name": "stdout",
     "output_type": "stream",
     "text": [
      "sin 0 equals 0\n",
      "sin 1/6*pi equals 1/2\n",
      "sin 1/4*pi equals 1/2*sqrt(2)\n",
      "sin 1/3*pi equals 1/2*sqrt(3)\n",
      "sin 1/2*pi equals 1\n"
     ]
    }
   ],
   "source": [
    "angles = [0, 1/6*pi, 1/4*pi, 2/6*pi, 1/2*pi]\n",
    "for theta in angles:\n",
    "    print 'sin', theta, 'equals', sin(theta)"
   ]
  },
  {
   "cell_type": "code",
   "execution_count": 70,
   "metadata": {},
   "outputs": [
    {
     "name": "stdout",
     "output_type": "stream",
     "text": [
      "cos 0 equals 1\n",
      "cos 1/6*pi equals 1/2*sqrt(3)\n",
      "cos 1/4*pi equals 1/2*sqrt(2)\n",
      "cos 1/3*pi equals 1/2\n",
      "cos 1/2*pi equals 0\n"
     ]
    }
   ],
   "source": [
    "angles = [0, 1/6*pi, 1/4*pi, 2/6*pi, 1/2*pi]\n",
    "for theta in angles:\n",
    "    print 'cos', theta, 'equals', cos(theta)"
   ]
  },
  {
   "cell_type": "code",
   "execution_count": 71,
   "metadata": {},
   "outputs": [
    {
     "name": "stdout",
     "output_type": "stream",
     "text": [
      "tan 0 equals 0\n",
      "tan 1/6*pi equals 1/3*sqrt(3)\n",
      "tan 1/4*pi equals 1\n",
      "tan 1/3*pi equals sqrt(3)\n"
     ]
    }
   ],
   "source": [
    "angles = [0, 1/6*pi, 1/4*pi, 2/6*pi]\n",
    "### tan is not defined on 1/2*pi\n",
    "for theta in angles:\n",
    "    print 'tan', theta, 'equals', tan(theta)"
   ]
  },
  {
   "cell_type": "markdown",
   "metadata": {},
   "source": [
    "用 `N` 函數來得到小數的逼近值"
   ]
  },
  {
   "cell_type": "code",
   "execution_count": 72,
   "metadata": {},
   "outputs": [
    {
     "data": {
      "text/plain": [
       "sin(1)"
      ]
     },
     "execution_count": 72,
     "metadata": {},
     "output_type": "execute_result"
    }
   ],
   "source": [
    "sin(1)"
   ]
  },
  {
   "cell_type": "code",
   "execution_count": 73,
   "metadata": {},
   "outputs": [
    {
     "data": {
      "text/plain": [
       "0.841470984807897"
      ]
     },
     "execution_count": 73,
     "metadata": {},
     "output_type": "execute_result"
    }
   ],
   "source": [
    "N(sin(1))"
   ]
  },
  {
   "cell_type": "markdown",
   "metadata": {},
   "source": [
    "### 棣美弗公式（De Moivre's formula）\n",
    "對任意角度 $\\theta$ 及整數 $n$  \n",
    "$(\\cos\\theta + i\\sin\\theta)^n = \\cos(n\\theta) + i\\sin(n\\theta)$"
   ]
  },
  {
   "cell_type": "markdown",
   "metadata": {},
   "source": [
    "在 Sage 中用 `I` 代表虛數 $i$ "
   ]
  },
  {
   "cell_type": "code",
   "execution_count": 119,
   "metadata": {},
   "outputs": [
    {
     "data": {
      "text/plain": [
       "I"
      ]
     },
     "execution_count": 119,
     "metadata": {},
     "output_type": "execute_result"
    }
   ],
   "source": [
    "I"
   ]
  },
  {
   "cell_type": "code",
   "execution_count": 120,
   "metadata": {},
   "outputs": [
    {
     "data": {
      "text/plain": [
       "-1"
      ]
     },
     "execution_count": 120,
     "metadata": {},
     "output_type": "execute_result"
    }
   ],
   "source": [
    "I^2"
   ]
  },
  {
   "cell_type": "markdown",
   "metadata": {},
   "source": [
    "感覺一下棣美弗公式  \n",
    "令 $\\theta = \\frac{\\pi}{4}$ 且 $n=4$"
   ]
  },
  {
   "cell_type": "code",
   "execution_count": 122,
   "metadata": {},
   "outputs": [
    {
     "data": {
      "text/plain": [
       "(1/2*I + 1/2)*sqrt(2)"
      ]
     },
     "execution_count": 122,
     "metadata": {},
     "output_type": "execute_result"
    }
   ],
   "source": [
    "z = cos(1/4*pi) + I*sin(1/4*pi)\n",
    "z"
   ]
  },
  {
   "cell_type": "markdown",
   "metadata": {},
   "source": [
    "$(\\cos\\theta + i\\sin\\theta)^n$"
   ]
  },
  {
   "cell_type": "code",
   "execution_count": 123,
   "metadata": {},
   "outputs": [
    {
     "data": {
      "text/plain": [
       "-1"
      ]
     },
     "execution_count": 123,
     "metadata": {},
     "output_type": "execute_result"
    }
   ],
   "source": [
    "z^4"
   ]
  },
  {
   "cell_type": "markdown",
   "metadata": {},
   "source": [
    "$\\cos(n\\theta) + i\\sin(n\\theta)$"
   ]
  },
  {
   "cell_type": "code",
   "execution_count": 124,
   "metadata": {},
   "outputs": [
    {
     "data": {
      "text/plain": [
       "-1"
      ]
     },
     "execution_count": 124,
     "metadata": {},
     "output_type": "execute_result"
    }
   ],
   "source": [
    "cos(pi) + I*sin(pi)"
   ]
  },
  {
   "cell_type": "markdown",
   "metadata": {},
   "source": [
    "## 二維座標上的圖形\n",
    "由於實數上的函數  \n",
    "一次描述了許多點和點之間的關係  \n",
    "\n",
    "通常會在二維座標系上  \n",
    "記錄所有的 $(x,y)$  \n",
    "其中 $y=f(x)$"
   ]
  },
  {
   "cell_type": "code",
   "execution_count": 105,
   "metadata": {},
   "outputs": [
    {
     "data": {
      "image/png": "[encoded data removed]",
      "text/plain": [
       "Graphics object consisting of 1 graphics primitive"
      ]
     },
     "execution_count": 105,
     "metadata": {},
     "output_type": "execute_result"
    }
   ],
   "source": [
    "f = x^2\n",
    "f.plot()"
   ]
  },
  {
   "cell_type": "markdown",
   "metadata": {},
   "source": [
    "`plot` 函數有很多參數可以調整  \n",
    "像是 `xmin`、`xmax`、`ymin`、`ymax` 等等  \n",
    "\n",
    "可以參考 [Sage 說明書](http://doc.sagemath.org/html/en/reference/plotting/sage/plot/plot.html#sage.plot.plot.plot)"
   ]
  },
  {
   "cell_type": "code",
   "execution_count": 74,
   "metadata": {},
   "outputs": [
    {
     "data": {
      "image/png": "[encoded data removed]",
      "text/plain": [
       "Graphics object consisting of 1 graphics primitive"
      ]
     },
     "execution_count": 74,
     "metadata": {},
     "output_type": "execute_result"
    }
   ],
   "source": [
    "f = x^2\n",
    "f.plot(xmin=-0.1, xmax=0.1, ymin=-0.1, ymax=0.1)"
   ]
  },
  {
   "cell_type": "markdown",
   "metadata": {},
   "source": [
    "兩個圖形可以相加  \n",
    "得到的就是將兩個圖形疊在一起"
   ]
  },
  {
   "cell_type": "code",
   "execution_count": 75,
   "metadata": {},
   "outputs": [
    {
     "data": {
      "image/png": "[encoded data removed]",
      "text/plain": [
       "Graphics object consisting of 2 graphics primitives"
      ]
     },
     "execution_count": 75,
     "metadata": {},
     "output_type": "execute_result"
    }
   ],
   "source": [
    "f = x^2\n",
    "g = x^3\n",
    "f.plot() + g.plot()"
   ]
  },
  {
   "cell_type": "markdown",
   "metadata": {},
   "source": [
    "每個圖形可以用 `color` 參數調整顏色  \n",
    "也可以用 `legend_label` 參數來設定圖例的文字  \n",
    "\n",
    "這裡 `$x^2$` 是 $\\TeX$ 語言的與法  \n",
    "$\\TeX$ 是一套強大的排版系統  \n",
    "近代幾乎所有的數學論文都是由 $\\TeX$ 排版完成的"
   ]
  },
  {
   "cell_type": "code",
   "execution_count": 119,
   "metadata": {},
   "outputs": [
    {
     "data": {
      "image/png": "[encoded data removed]",
      "text/plain": [
       "Graphics object consisting of 2 graphics primitives"
      ]
     },
     "execution_count": 119,
     "metadata": {},
     "output_type": "execute_result"
    }
   ],
   "source": [
    "f = x^2\n",
    "g = x^3\n",
    "f.plot(color='blue', legend_label='$x^2$') + g.plot(color='red', legend_label='$x^3$')"
   ]
  },
  {
   "cell_type": "markdown",
   "metadata": {},
   "source": [
    "也可以用 `linestyle` 參數來調整線的格式"
   ]
  },
  {
   "cell_type": "code",
   "execution_count": 122,
   "metadata": {},
   "outputs": [
    {
     "data": {
      "image/png": "[encoded data removed]",
      "text/plain": [
       "Graphics object consisting of 2 graphics primitives"
      ]
     },
     "execution_count": 122,
     "metadata": {},
     "output_type": "execute_result"
    }
   ],
   "source": [
    "f = sin(x)\n",
    "g = cos(x)\n",
    "pic1 = f.plot(xmin=-pi, xmax=pi, color='blue', linestyle='--', legend_label='$\\sin(x)$')\n",
    "pic2 = g.plot(xmin=-pi, xmax=pi, color='red', linestyle=':', legend_label='$\\cos(x)$')\n",
    "pic1 + pic2"
   ]
  },
  {
   "cell_type": "markdown",
   "metadata": {},
   "source": [
    "## 二維向量\n",
    "一個向量記錄了方向以及距離  \n",
    "它是一個把物體移動的過程\n",
    "\n",
    "在二維平面中  \n",
    "$(a,b)$ 可以代表一個點  \n",
    "也可以代表一個向量  \n",
    "這個向量可以把物體從 $(0,0)$ 移動到 $(a,b)$  \n",
    "所以這向量的長度（或是距離）為 $a^2+b^2$"
   ]
  },
  {
   "cell_type": "markdown",
   "metadata": {},
   "source": [
    "在 Sage 裡  \n",
    "可以用 `vector([a,b])` 來建造一個向量 $(a,b)$"
   ]
  },
  {
   "cell_type": "code",
   "execution_count": 76,
   "metadata": {},
   "outputs": [],
   "source": [
    "v1 = vector([2,3])"
   ]
  },
  {
   "cell_type": "markdown",
   "metadata": {},
   "source": [
    "函數 `f` 的 `f.plot()` 會把函數繪製出來  \n",
    "向量 `v` 的 `v.plot()` 同樣會把向量繪製出來  \n",
    "\n",
    "不同類型的物件會畫出不同東西"
   ]
  },
  {
   "cell_type": "code",
   "execution_count": 78,
   "metadata": {},
   "outputs": [
    {
     "data": {
      "image/png": "[encoded data removed]",
      "text/plain": [
       "Graphics object consisting of 1 graphics primitive"
      ]
     },
     "execution_count": 78,
     "metadata": {},
     "output_type": "execute_result"
    }
   ],
   "source": [
    "v1.plot()"
   ]
  },
  {
   "cell_type": "markdown",
   "metadata": {},
   "source": [
    "我們只在意向量的方向及距離  \n",
    "並不在意它的起始點在哪邊  \n",
    "\n",
    "所以下方的藍向量與紅向量是被視為一樣的"
   ]
  },
  {
   "cell_type": "markdown",
   "metadata": {},
   "source": [
    "可以用 `start` 參數  \n",
    "來調整繪製時的起始點"
   ]
  },
  {
   "cell_type": "code",
   "execution_count": 133,
   "metadata": {},
   "outputs": [
    {
     "data": {
      "image/png": "[encoded data removed]",
      "text/plain": [
       "Graphics object consisting of 2 graphics primitives"
      ]
     },
     "execution_count": 133,
     "metadata": {},
     "output_type": "execute_result"
    }
   ],
   "source": [
    "v1 = vector([2,3])\n",
    "pic1 = v1.plot(color='blue')\n",
    "pic2 = v1.plot(start=(2,0), color='red')\n",
    "pic1 + pic2"
   ]
  },
  {
   "cell_type": "markdown",
   "metadata": {},
   "source": [
    "向量有**向量加法**：  \n",
    "向量加向量就是把各項相加  \n",
    "$(a,b)+(c,d)=(a+c,b+d)$"
   ]
  },
  {
   "cell_type": "code",
   "execution_count": 79,
   "metadata": {},
   "outputs": [
    {
     "data": {
      "text/plain": [
       "(1, 2)"
      ]
     },
     "execution_count": 79,
     "metadata": {},
     "output_type": "execute_result"
    }
   ],
   "source": [
    "v1 = vector([2,3])\n",
    "v2 = vector([-1,-1])\n",
    "v3 = v1 + v2\n",
    "v3"
   ]
  },
  {
   "cell_type": "markdown",
   "metadata": {},
   "source": [
    "意思是  \n",
    "把一點從原點用 $(a,b)$ 向量移動  \n",
    "再用 $(c,d)$ 向量移動  \n",
    "\n",
    "相當於直接用 $(a+c,b+d)$ 來移動"
   ]
  },
  {
   "cell_type": "code",
   "execution_count": 83,
   "metadata": {},
   "outputs": [
    {
     "data": {
      "image/png": "[encoded data removed]",
      "text/plain": [
       "Graphics object consisting of 3 graphics primitives"
      ]
     },
     "execution_count": 83,
     "metadata": {},
     "output_type": "execute_result"
    }
   ],
   "source": [
    "v1 = vector([2,3])\n",
    "v2 = vector([-1,-1])\n",
    "v3 = v1 + v2\n",
    "pic1 = v1.plot(color='blue')\n",
    "pic2 = v2.plot(color='orange', start=v1)\n",
    "pic3 = v3.plot(color='red')\n",
    "pic1 + pic2 + pic3"
   ]
  },
  {
   "cell_type": "markdown",
   "metadata": {},
   "source": [
    "向量有**純量乘法**：  \n",
    "純量和向量相乘就是把純量乘進每一項    \n",
    "$k\\times (a,b)=(ka,kb)$"
   ]
  },
  {
   "cell_type": "code",
   "execution_count": 80,
   "metadata": {},
   "outputs": [
    {
     "data": {
      "text/plain": [
       "(6, 9)"
      ]
     },
     "execution_count": 80,
     "metadata": {},
     "output_type": "execute_result"
    }
   ],
   "source": [
    "v1 = vector([2,3])\n",
    "3 * v1"
   ]
  },
  {
   "cell_type": "markdown",
   "metadata": {},
   "source": [
    "意思就是將這個向量伸縮 $k$ 倍"
   ]
  },
  {
   "cell_type": "code",
   "execution_count": 82,
   "metadata": {},
   "outputs": [
    {
     "data": {
      "image/png": "[encoded data removed]",
      "text/plain": [
       "Graphics object consisting of 4 graphics primitives"
      ]
     },
     "execution_count": 82,
     "metadata": {},
     "output_type": "execute_result"
    }
   ],
   "source": [
    "v1 = vector([2,3])\n",
    "v2 = 3 * v1\n",
    "pic1 = v1.plot()\n",
    "pic2 = v1.plot(start=v1)\n",
    "pic3 = v1.plot(start=v1+v1)\n",
    "pic4 = v2.plot(start=(0.05,0),color='red')\n",
    "pic1 + pic2 + pic3 + pic4"
   ]
  },
  {
   "cell_type": "markdown",
   "metadata": {},
   "source": [
    "向量和向量之間可以做**內積**（dot product）  \n",
    "得到一個純量  \n",
    "$(a,b)\\cdot (c,d) = ac+bd$"
   ]
  },
  {
   "cell_type": "code",
   "execution_count": 84,
   "metadata": {},
   "outputs": [
    {
     "data": {
      "text/plain": [
       "-5"
      ]
     },
     "execution_count": 84,
     "metadata": {},
     "output_type": "execute_result"
    }
   ],
   "source": [
    "v1 = vector([2,3])\n",
    "v2 = vector([-1,-1])\n",
    "v1 * v2"
   ]
  },
  {
   "cell_type": "markdown",
   "metadata": {},
   "source": [
    "## Python 中的物件\n",
    "在 Python 裡  \n",
    "我們可以創造出全新的東西  \n",
    "然後定義它的許多性質及相關函數  \n",
    "甚至定義它們的加法  \n",
    "如何比大小  \n",
    "如何顯示出來  \n",
    "\n",
    "因為它是一個幾乎沒有侷限的東西  \n",
    "所以我們叫它作**物件**"
   ]
  },
  {
   "cell_type": "markdown",
   "metadata": {},
   "source": [
    "### 類別\n",
    "Python 裡的物件有各自的**資料結構**（type）  \n",
    "或是它屬於某一個**類別**（class）  "
   ]
  },
  {
   "cell_type": "code",
   "execution_count": 85,
   "metadata": {},
   "outputs": [
    {
     "data": {
      "text/plain": [
       "<type 'sage.rings.integer.Integer'>"
      ]
     },
     "execution_count": 85,
     "metadata": {},
     "output_type": "execute_result"
    }
   ],
   "source": [
    "type(1)"
   ]
  },
  {
   "cell_type": "code",
   "execution_count": 86,
   "metadata": {},
   "outputs": [
    {
     "data": {
      "text/plain": [
       "<type 'sage.rings.real_mpfr.RealLiteral'>"
      ]
     },
     "execution_count": 86,
     "metadata": {},
     "output_type": "execute_result"
    }
   ],
   "source": [
    "type(1.5)"
   ]
  },
  {
   "cell_type": "code",
   "execution_count": 87,
   "metadata": {},
   "outputs": [
    {
     "data": {
      "text/plain": [
       "<type 'sage.symbolic.expression.Expression'>"
      ]
     },
     "execution_count": 87,
     "metadata": {},
     "output_type": "execute_result"
    }
   ],
   "source": [
    "type(x)"
   ]
  },
  {
   "cell_type": "code",
   "execution_count": 88,
   "metadata": {},
   "outputs": [
    {
     "data": {
      "text/plain": [
       "<type 'builtin_function_or_method'>"
      ]
     },
     "execution_count": 88,
     "metadata": {},
     "output_type": "execute_result"
    }
   ],
   "source": [
    "type(range)"
   ]
  },
  {
   "cell_type": "code",
   "execution_count": 89,
   "metadata": {},
   "outputs": [
    {
     "data": {
      "text/plain": [
       "<type 'sage.matrix.matrix_integer_dense.Matrix_integer_dense'>"
      ]
     },
     "execution_count": 89,
     "metadata": {},
     "output_type": "execute_result"
    }
   ],
   "source": [
    "type(matrix([[1]]))"
   ]
  },
  {
   "cell_type": "code",
   "execution_count": 90,
   "metadata": {},
   "outputs": [
    {
     "data": {
      "text/plain": [
       "<class 'sage.rings.rational_field.RationalField_with_category'>"
      ]
     },
     "execution_count": 90,
     "metadata": {},
     "output_type": "execute_result"
    }
   ],
   "source": [
    "type(QQ)"
   ]
  },
  {
   "cell_type": "code",
   "execution_count": 91,
   "metadata": {},
   "outputs": [
    {
     "data": {
      "text/plain": [
       "<class 'sage.functions.log.Function_exp'>"
      ]
     },
     "execution_count": 91,
     "metadata": {},
     "output_type": "execute_result"
    }
   ],
   "source": [
    "type(exp)"
   ]
  },
  {
   "cell_type": "markdown",
   "metadata": {},
   "source": [
    "物件可以是一個類別裡的**實例**（instance）  \n",
    "可以用 `isinstance` 來判斷一個物件屬不屬於某一類別"
   ]
  },
  {
   "cell_type": "code",
   "execution_count": 92,
   "metadata": {},
   "outputs": [
    {
     "data": {
      "text/plain": [
       "True"
      ]
     },
     "execution_count": 92,
     "metadata": {},
     "output_type": "execute_result"
    }
   ],
   "source": [
    "isinstance(1,Integer)"
   ]
  },
  {
   "cell_type": "code",
   "execution_count": 94,
   "metadata": {},
   "outputs": [
    {
     "data": {
      "text/plain": [
       "False"
      ]
     },
     "execution_count": 94,
     "metadata": {},
     "output_type": "execute_result"
    }
   ],
   "source": [
    "isinstance(1,int)"
   ]
  },
  {
   "cell_type": "code",
   "execution_count": 93,
   "metadata": {},
   "outputs": [
    {
     "data": {
      "text/plain": [
       "True"
      ]
     },
     "execution_count": 93,
     "metadata": {},
     "output_type": "execute_result"
    }
   ],
   "source": [
    "isinstance(x,Expression)"
   ]
  },
  {
   "cell_type": "markdown",
   "metadata": {},
   "source": [
    "### 自行定義一個類別\n",
    "接下來  \n",
    "我們試著在 Sage 中  \n",
    "定義一個新的類別叫作 `fraction`  \n",
    "來實現數學中的分數  "
   ]
  },
  {
   "cell_type": "markdown",
   "metadata": {},
   "source": [
    "`class fraction`  \n",
    "定義了類別的名稱\n",
    "\n",
    "`__init__`  \n",
    "定義了如何創造一個新物件\n",
    "\n",
    "一個分數其實只須要兩個輸入的值：  \n",
    "分子（numerator）和分母（denominator）  "
   ]
  },
  {
   "cell_type": "markdown",
   "metadata": {},
   "source": [
    "每個物件都可以設定許多**屬性**（attribute）  \n",
    "像這裡我們設定了 `numerator`、`denominator`、以及 `gcd`  \n",
    "\n",
    "當 `q` 是一個物件  \n",
    "`gcd` 是它的屬性  \n",
    "可以用 `q.gcd` 叫出這個屬性的值"
   ]
  },
  {
   "cell_type": "code",
   "execution_count": 95,
   "metadata": {},
   "outputs": [
    {
     "data": {
      "text/plain": [
       "2"
      ]
     },
     "execution_count": 95,
     "metadata": {},
     "output_type": "execute_result"
    }
   ],
   "source": [
    "class fraction:\n",
    "    def __init__(self,a,b):\n",
    "        self.numerator = a\n",
    "        self.denominator = b\n",
    "        self.gcd = gcd(a,b)\n",
    "        \n",
    "q = fraction(4,6)\n",
    "q.gcd"
   ]
  },
  {
   "cell_type": "markdown",
   "metadata": {},
   "source": [
    "每個物件也可以定義其相關的函數  \n",
    "叫作**運算**（method）  \n",
    "\n",
    "這裡我們定義一個新的運算  \n",
    "計算分數的倒數（reciprocal）"
   ]
  },
  {
   "cell_type": "code",
   "execution_count": 96,
   "metadata": {},
   "outputs": [
    {
     "name": "stdout",
     "output_type": "stream",
     "text": [
      "q\n",
      "2\n",
      "3\n",
      "---\n",
      "1/q\n",
      "3\n",
      "2\n"
     ]
    }
   ],
   "source": [
    "class fraction:\n",
    "    def __init__(self,a,b):\n",
    "        self.numerator = a\n",
    "        self.denominator = b\n",
    "        self.gcd = gcd(a,b)\n",
    "        \n",
    "    def reciprocal(self):\n",
    "        return fraction(self.denominator,self.numerator)\n",
    "\n",
    "q = fraction(2,3)\n",
    "print 'q'\n",
    "print q.numerator\n",
    "print q.denominator\n",
    "print '---'\n",
    "\n",
    "p = q.reciprocal();\n",
    "print '1/q'\n",
    "print p.numerator\n",
    "print p.denominator"
   ]
  },
  {
   "cell_type": "markdown",
   "metadata": {},
   "source": [
    "運算是函數  \n",
    "所以最後要用 `()` 收尾  \n",
    "或是放入一些須要的參數  \n",
    "\n",
    "屬性只是一個值  \n",
    "所以不用用 `()` 收尾"
   ]
  },
  {
   "cell_type": "code",
   "execution_count": 97,
   "metadata": {},
   "outputs": [
    {
     "ename": "TypeError",
     "evalue": "'sage.rings.integer.Integer' object is not callable",
     "output_type": "error",
     "traceback": [
      "\u001b[0;31m---------------------------------------------------------------------------\u001b[0m",
      "\u001b[0;31mTypeError\u001b[0m                                 Traceback (most recent call last)",
      "\u001b[0;32m<ipython-input-97-d45fe950f551>\u001b[0m in \u001b[0;36m<module>\u001b[0;34m()\u001b[0m\n\u001b[0;32m----> 1\u001b[0;31m \u001b[0mq\u001b[0m\u001b[0;34m.\u001b[0m\u001b[0mnumerator\u001b[0m\u001b[0;34m(\u001b[0m\u001b[0;34m)\u001b[0m\u001b[0;34m\u001b[0m\u001b[0m\n\u001b[0m",
      "\u001b[0;31mTypeError\u001b[0m: 'sage.rings.integer.Integer' object is not callable"
     ]
    }
   ],
   "source": [
    "q.numerator()"
   ]
  },
  {
   "cell_type": "code",
   "execution_count": 98,
   "metadata": {},
   "outputs": [
    {
     "data": {
      "text/plain": [
       "<bound method fraction.reciprocal of <__main__.fraction instance at 0x7f8e15e09bd8>>"
      ]
     },
     "execution_count": 98,
     "metadata": {},
     "output_type": "execute_result"
    }
   ],
   "source": [
    "q.reciprocal"
   ]
  },
  {
   "cell_type": "markdown",
   "metadata": {},
   "source": [
    "這邊附帶提一下  \n",
    "`_` 並不是什麼特殊的字元  \n",
    "它可以拿來當變數的名字"
   ]
  },
  {
   "cell_type": "code",
   "execution_count": 99,
   "metadata": {},
   "outputs": [
    {
     "name": "stdout",
     "output_type": "stream",
     "text": [
      "0\n",
      "1\n",
      "2\n",
      "3\n",
      "4\n",
      "5\n",
      "6\n",
      "7\n",
      "8\n",
      "9\n"
     ]
    }
   ],
   "source": [
    "for _ in range(10):\n",
    "    print _"
   ]
  },
  {
   "cell_type": "markdown",
   "metadata": {},
   "source": [
    "Python 中的類別人有許多特殊的運算（special method）  \n",
    "像是 `__init__`、`__repr__`、`__add__`、以及 `__contain__`\n",
    "\n",
    "`__repr__` 告訴 Python  \n",
    "如何把這個物件 `print` 出來  \n",
    "（賦予 `print` 的意義）"
   ]
  },
  {
   "cell_type": "code",
   "execution_count": 100,
   "metadata": {},
   "outputs": [
    {
     "name": "stdout",
     "output_type": "stream",
     "text": [
      "2 / 3\n"
     ]
    }
   ],
   "source": [
    "class fraction:\n",
    "    def __init__(self,a,b):\n",
    "        self.numerator = a\n",
    "        self.denominator = b\n",
    "        self.gcd = gcd(a,b)\n",
    "        \n",
    "    def reciprocal(self):\n",
    "        return fraction(self.denominator,self.numerator)\n",
    "\n",
    "    def __repr__(self):\n",
    "        return \"{} / {}\".format(self.numerator,self.denominator)\n",
    "\n",
    "q = fraction(2,3)\n",
    "print q"
   ]
  },
  {
   "cell_type": "markdown",
   "metadata": {},
   "source": [
    "`__add__` 告訴 Python  \n",
    "如何將兩個物件相加  \n",
    "（賦予 `+` 的意義）\n",
    " \n",
    "類似的還有：  \n",
    "`__sub__` 定義了減法 `-`  \n",
    "`__mul__` 定義了乘法 `*`  \n",
    "`__div__` 定義了除法 `/`  "
   ]
  },
  {
   "cell_type": "code",
   "execution_count": 102,
   "metadata": {},
   "outputs": [
    {
     "name": "stdout",
     "output_type": "stream",
     "text": [
      "2 / 5 + 2 / 3 = 16 / 15\n"
     ]
    }
   ],
   "source": [
    "class fraction:\n",
    "    def __init__(self,a,b):\n",
    "        self.numerator = a\n",
    "        self.denominator = b\n",
    "        self.gcd = gcd(a,b)\n",
    "        \n",
    "    def reciprocal(self):\n",
    "        return fraction(self.denominator,self.numerator)\n",
    "\n",
    "    def __repr__(self):\n",
    "        return \"{} / {}\".format(self.numerator,self.denominator)\n",
    "\n",
    "    def __add__(self,other):\n",
    "        a,b = self.numerator,self.denominator\n",
    "        c,d = other.numerator,other.denominator\n",
    "        return fraction( a*d + b*c, b*d )\n",
    "\n",
    "q = fraction(2,3)\n",
    "p = fraction(2,5)\n",
    "print p, '+', q, '=', p+q"
   ]
  },
  {
   "cell_type": "markdown",
   "metadata": {},
   "source": [
    "`__eq__` 告訴 Python  \n",
    "如何判斷兩個物件是否一樣  \n",
    "（賦予 `==` 意義）\n",
    "\n",
    "類似的還有  \n",
    "`__ne__` 定義了不等於 `!=`"
   ]
  },
  {
   "cell_type": "code",
   "execution_count": 103,
   "metadata": {},
   "outputs": [
    {
     "name": "stdout",
     "output_type": "stream",
     "text": [
      "2 / 3\n",
      "4 / 6\n",
      "True\n"
     ]
    }
   ],
   "source": [
    "class fraction:\n",
    "    def __init__(self,a,b):\n",
    "        self.numerator = a\n",
    "        self.denominator = b\n",
    "        self.gcd = gcd(a,b)\n",
    "        \n",
    "    def reciprocal(self):\n",
    "        return fraction(self.denominator,self.numerator)\n",
    "\n",
    "    def __repr__(self):\n",
    "        return \"{} / {}\".format(self.numerator,self.denominator)\n",
    "\n",
    "    def __add__(self,other):\n",
    "        a,b = self.numerator,self.denominator\n",
    "        c,d = other.numerator,other.denominator\n",
    "        return fraction( a*d + b*c, b*d)\n",
    "\n",
    "    def __eq__(self,other):\n",
    "        a,b = self.numerator,self.denominator\n",
    "        c,d = other.numerator,other.denominator\n",
    "        return a*d == b*c\n",
    "\n",
    "q = fraction(2,3)\n",
    "print q\n",
    "p = fraction(4,6)\n",
    "print p\n",
    "print p == q"
   ]
  },
  {
   "cell_type": "markdown",
   "metadata": {},
   "source": [
    "最後  \n",
    "我們可以用 `dir`  \n",
    "來查找所有的屬性及運算  "
   ]
  },
  {
   "cell_type": "code",
   "execution_count": 46,
   "metadata": {
    "scrolled": true
   },
   "outputs": [
    {
     "data": {
      "text/plain": [
       "['__add__',\n",
       " '__doc__',\n",
       " '__eq__',\n",
       " '__init__',\n",
       " '__module__',\n",
       " '__repr__',\n",
       " 'denominator',\n",
       " 'gcd',\n",
       " 'numerator',\n",
       " 'reciprocal']"
      ]
     },
     "execution_count": 46,
     "metadata": {},
     "output_type": "execute_result"
    }
   ],
   "source": [
    "dir(q)"
   ]
  },
  {
   "cell_type": "markdown",
   "metadata": {},
   "source": [
    "或是用 `vars` 來列出所有的屬性"
   ]
  },
  {
   "cell_type": "code",
   "execution_count": 106,
   "metadata": {},
   "outputs": [
    {
     "data": {
      "text/plain": [
       "{'denominator': 3, 'gcd': 1, 'numerator': 2}"
      ]
     },
     "execution_count": 106,
     "metadata": {},
     "output_type": "execute_result"
    }
   ],
   "source": [
    "vars(q)"
   ]
  },
  {
   "cell_type": "markdown",
   "metadata": {},
   "source": [
    "這樣我們的 `fraction` 已經很完整了  \n",
    "\n",
    "然而我們可以留心一些小細節  \n",
    "讓它更臻完美"
   ]
  },
  {
   "cell_type": "markdown",
   "metadata": {},
   "source": [
    "比如說加入一些偵錯的機制  \n",
    "\n",
    "若是分母可以為 0  \n",
    "程式不見得會出錯  \n",
    "然後結果不見得是我們要的  "
   ]
  },
  {
   "cell_type": "code",
   "execution_count": 107,
   "metadata": {},
   "outputs": [
    {
     "name": "stdout",
     "output_type": "stream",
     "text": [
      "2 / 0\n",
      "3 / 0\n",
      "True\n"
     ]
    }
   ],
   "source": [
    "q = fraction(2,0)\n",
    "print q\n",
    "p = fraction(3,0)\n",
    "print p\n",
    "print p == q"
   ]
  },
  {
   "cell_type": "markdown",
   "metadata": {},
   "source": [
    "所以可以用 `raise Error` 來偵錯\n",
    "\n",
    "不同的 `Error` 形式  \n",
    "可以在 [Python 說明書](https://docs.python.org/3/library/exceptions.html)中找到"
   ]
  },
  {
   "cell_type": "code",
   "execution_count": null,
   "metadata": {},
   "outputs": [],
   "source": [
    "class fraction:\n",
    "    def __init__(self,a,b):\n",
    "        if b == 0:\n",
    "            raise ValueError, \"The divisor cannot be zero.\"\n",
    "        self.numerator = a\n",
    "        self.denominator = b\n",
    "        self.gcd = gcd(a,b)\n",
    "        \n",
    "    def reciprocal(self):\n",
    "        return fraction(self.denominator,self.numerator)\n",
    "\n",
    "    def __repr__(self):\n",
    "        return \"{} / {}\".format(self.numerator,self.denominator)\n",
    "\n",
    "    def __add__(self,other):\n",
    "        a,b = self.numerator,self.denominator\n",
    "        c,d = other.numerator,other.denominator\n",
    "        return fraction( a*d + b*c, b*d)\n",
    "\n",
    "    def __eq__(self,other):\n",
    "        a,b = self.numerator,self.denominator\n",
    "        c,d = other.numerator,other.denominator\n",
    "        return a*d == b*c\n",
    "\n",
    "q = fraction(2,0)\n",
    "print q"
   ]
  },
  {
   "cell_type": "markdown",
   "metadata": {},
   "source": [
    "## 動手試試看"
   ]
  },
  {
   "cell_type": "markdown",
   "metadata": {},
   "source": [
    "##### 練習\n",
    "定義一個字典 `months`  \n",
    "將 `1` 到 `12` 對應到  \n",
    "`'January'` 到 `'December'`。"
   ]
  },
  {
   "cell_type": "code",
   "execution_count": null,
   "metadata": {},
   "outputs": [],
   "source": [
    "### your answer here"
   ]
  },
  {
   "cell_type": "markdown",
   "metadata": {},
   "source": [
    "##### 練習\n",
    "上一個練習中 `months`  \n",
    "的定義域和值域分別是是什麼。"
   ]
  },
  {
   "cell_type": "code",
   "execution_count": null,
   "metadata": {},
   "outputs": [],
   "source": [
    "### your answer here"
   ]
  },
  {
   "cell_type": "markdown",
   "metadata": {},
   "source": [
    "##### 練習\n",
    "將 $y$ 設為一個變數，  \n",
    "定義 $f(y) =  y^5 + 2y^4 + 3y^3 + 4y^2 + 5y +6$，  \n",
    "並計算 $f(3)$ 的函數值。"
   ]
  },
  {
   "cell_type": "code",
   "execution_count": null,
   "metadata": {},
   "outputs": [],
   "source": [
    "### your answer here"
   ]
  },
  {
   "cell_type": "markdown",
   "metadata": {},
   "source": [
    "##### 練習\n",
    "定義 $f(x) = \\frac{x^2-1}{x-1}$。  \n",
    "並計算 $f(1.1)$、$f(1.001)$、以及 $f(1.00001)$。  \n",
    "而 $f(1)$ 又是多少。"
   ]
  },
  {
   "cell_type": "code",
   "execution_count": 20,
   "metadata": {},
   "outputs": [],
   "source": [
    "### your answer here"
   ]
  },
  {
   "cell_type": "markdown",
   "metadata": {},
   "source": [
    "##### 練習\n",
    "定義 $f(x) = \\frac{1}{1-x}$ 及 $g(x) = \\frac{x-1}{x}$。  \n",
    "計算 $f(g(x))$。  \n",
    "（利用 `simplify(expand(the_function))` 將函數化到最簡。）"
   ]
  },
  {
   "cell_type": "code",
   "execution_count": 23,
   "metadata": {},
   "outputs": [],
   "source": [
    "### your answer here"
   ]
  },
  {
   "cell_type": "markdown",
   "metadata": {},
   "source": [
    "##### 練習\n",
    "用 `lambda` 運算式  \n",
    "定義一個函數其功能為：  \n",
    "輸入 `x`，  \n",
    "輸出 `x` 的絕對值 `abs(x)`。"
   ]
  },
  {
   "cell_type": "code",
   "execution_count": null,
   "metadata": {},
   "outputs": [],
   "source": [
    "### your answer here"
   ]
  },
  {
   "cell_type": "markdown",
   "metadata": {},
   "source": [
    "##### 練習\n",
    "若 `a = [3,-5,2,-4,6,1]` 為一列表。  \n",
    "則 `a.sort()` 可以將 `a` 改為由小到大排列。  \n",
    "\n",
    "而 `sort` 函數裡面還有一個參數叫做 `key`。  \n",
    "若 `key` 被設定為一個函數 `f`，  \n",
    "則 `a.sort(key=f)` 會將 `a`  \n",
    "依照 `f(3)`, `f(-5)`, ... 的順序排列。  \n",
    "\n",
    "試著將 `a` 依照元素的絕對值大小排列。"
   ]
  },
  {
   "cell_type": "code",
   "execution_count": null,
   "metadata": {},
   "outputs": [],
   "source": [
    "### your answer here"
   ]
  },
  {
   "cell_type": "markdown",
   "metadata": {},
   "source": [
    "##### 練習\n",
    "用 `lambda` 運算式  \n",
    "定義一個函數其功能為：  \n",
    "輸入一個兩個元素的列表，  \n",
    "輸出這個列表的第一位。"
   ]
  },
  {
   "cell_type": "code",
   "execution_count": null,
   "metadata": {},
   "outputs": [],
   "source": [
    "### your answer here"
   ]
  },
  {
   "cell_type": "markdown",
   "metadata": {},
   "source": [
    "##### 練習\n",
    "若 `a = [[3,2], [1,4], [2,3], [4,2], [0,5]]`。  \n",
    "將 `a` 依照元素中的第一個元素排列。"
   ]
  },
  {
   "cell_type": "code",
   "execution_count": null,
   "metadata": {},
   "outputs": [],
   "source": [
    "### your answer here"
   ]
  },
  {
   "cell_type": "markdown",
   "metadata": {},
   "source": [
    "##### 練習\n",
    "計算 $\\sin 15^\\circ$。"
   ]
  },
  {
   "cell_type": "code",
   "execution_count": null,
   "metadata": {},
   "outputs": [],
   "source": [
    "### your answer here"
   ]
  },
  {
   "cell_type": "markdown",
   "metadata": {},
   "source": [
    "##### 練習\n",
    "計算 $\\cos 18^\\circ$。"
   ]
  },
  {
   "cell_type": "code",
   "execution_count": null,
   "metadata": {},
   "outputs": [],
   "source": [
    "### your answer here"
   ]
  },
  {
   "cell_type": "markdown",
   "metadata": {},
   "source": [
    "##### 練習\n",
    "計算 $\\sin 3$。  \n",
    "（注意這裡 $3$ 是徑度不是度數。）"
   ]
  },
  {
   "cell_type": "code",
   "execution_count": null,
   "metadata": {},
   "outputs": [],
   "source": [
    "### your answer here"
   ]
  },
  {
   "cell_type": "markdown",
   "metadata": {},
   "source": [
    "##### 練習\n",
    "畫一張圖：  \n",
    "上面有 $x$, $x^2$, $x^3$ 的函數圖形，  \n",
    "設定 $0\\leq x\\leq 1$ 及 $0\\leq y\\leq 1$，  \n",
    "其中每個函數圖形用不同顏色表示  \n",
    "並有圖例來說明各個圖形。"
   ]
  },
  {
   "cell_type": "code",
   "execution_count": null,
   "metadata": {},
   "outputs": [],
   "source": [
    "### your answer here"
   ]
  },
  {
   "cell_type": "markdown",
   "metadata": {},
   "source": [
    "##### 練習\n",
    "若 `n` 為一個正整數，  \n",
    "則 `rainbow(n)` 會回傳一個含有 `n` 個顏色的列表。  \n",
    "\n",
    "例用 `for` 迴圈  \n",
    "將 $x^1$, $x^2$, ..., $x^10$ 都畫在同一張圖上  \n",
    "（$0\\leq x\\leq 1$ 及 $0\\leq y\\leq 1$），  \n",
    "並用不同顏色表示。  \n",
    "\n",
    "有辦法將圖例也補上嗎？  "
   ]
  },
  {
   "cell_type": "code",
   "execution_count": null,
   "metadata": {},
   "outputs": [],
   "source": [
    "### your answer here"
   ]
  },
  {
   "cell_type": "markdown",
   "metadata": {},
   "source": [
    "##### 練習\n",
    "若 $v_1 = (3,5)$ 且 $v_2 = (-2,-4)$。  \n",
    "計算 $10 v_1 + 5 v_2$。"
   ]
  },
  {
   "cell_type": "code",
   "execution_count": null,
   "metadata": {},
   "outputs": [],
   "source": [
    "### your answer here"
   ]
  },
  {
   "cell_type": "markdown",
   "metadata": {},
   "source": [
    "##### 練習\n",
    "若 $v_1 = (3,5)$ 且 $v_2 = (-2,-4)$。  \n",
    "計算 $(10 v_1)\\cdot(5 v_2)$。"
   ]
  },
  {
   "cell_type": "code",
   "execution_count": null,
   "metadata": {},
   "outputs": [],
   "source": [
    "### your answer here"
   ]
  },
  {
   "cell_type": "markdown",
   "metadata": {},
   "source": [
    "##### 練習\n",
    "Python 在定義類別的時候還有許多特殊運算：  \n",
    "`__le__` 定義小於等於 `<=`、  \n",
    "`__lt__` 定義小於 `<`、  \n",
    "`__ge__` 定義大於等於 `>=`、  \n",
    "`__gt__` 定義大於 `>`。  \n",
    "\n",
    "將這些特殊運算補到我們先前所定義的 `fraction` 之中。"
   ]
  },
  {
   "cell_type": "code",
   "execution_count": null,
   "metadata": {},
   "outputs": [],
   "source": [
    "### your answer here"
   ]
  },
  {
   "cell_type": "markdown",
   "metadata": {},
   "source": [
    "##### 練習\n",
    "定義一個新的類別 `clock_time`：  \n",
    "輸入時可以放入一個整數 `n`，  \n",
    "`print` 的時候會印出 1 到 12 中  \n",
    "和 `n` 差 12 的倍數的那個數字。  \n",
    "並定義其加法為  \n",
    "`clock_time(a) + clock_time(b) = clock_time(a+b)`。  \n",
    "\n",
    "七點鐘再過八個小時會是幾點鐘？"
   ]
  },
  {
   "cell_type": "code",
   "execution_count": null,
   "metadata": {},
   "outputs": [],
   "source": [
    "### your answer here"
   ]
  }
 ],
 "metadata": {
  "kernelspec": {
   "display_name": "SageMath 8.7",
   "language": "",
   "name": "sagemath"
  },
  "language_info": {
   "codemirror_mode": {
    "name": "ipython",
    "version": 2
   },
   "file_extension": ".py",
   "mimetype": "text/x-python",
   "name": "python",
   "nbconvert_exporter": "python",
   "pygments_lexer": "ipython2",
   "version": "2.7.16"
  }
 },
 "nbformat": 4,
 "nbformat_minor": 2
}
