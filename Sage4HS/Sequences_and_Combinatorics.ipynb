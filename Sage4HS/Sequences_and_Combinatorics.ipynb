{
 "cells": [
  {
   "cell_type": "markdown",
   "metadata": {},
   "source": [
    "# 數列級數與排列組合（Sequences and Combinatorics）\n",
    "\n"
   ]
  },
  {
   "cell_type": "markdown",
   "metadata": {},
   "source": [
    "![Creative Commons License](https://i.creativecommons.org/l/by/4.0/88x31.png)\n",
    "\n",
    "This work by Jephian Lin is licensed under a [Creative Commons Attribution 4.0 International License](http://creativecommons.org/licenses/by/4.0/)."
   ]
  },
  {
   "cell_type": "markdown",
   "metadata": {},
   "source": [
    "_Tested on SageMath version 8.7_"
   ]
  },
  {
   "cell_type": "markdown",
   "metadata": {},
   "source": [
    "## 數列與級數"
   ]
  },
  {
   "cell_type": "markdown",
   "metadata": {},
   "source": [
    "### 數列\n",
    "\n",
    "一個**數列**指的是一連串的數字  \n",
    "$a_1,a_2,\\ldots,a_n$  "
   ]
  },
  {
   "cell_type": "markdown",
   "metadata": {},
   "source": [
    "在 Sage 中，我們可以用**列表**（list）來紀錄一個數列  \n",
    "一個列表由一組中括號和一些逗點組成  \n",
    "`[a1, a2, ..., an]`"
   ]
  },
  {
   "cell_type": "code",
   "execution_count": 87,
   "metadata": {},
   "outputs": [],
   "source": [
    "seq = [1,2,3,4,5]"
   ]
  },
  {
   "cell_type": "markdown",
   "metadata": {},
   "source": [
    "如果 `seq` 是一個列表  \n",
    "可以用 `seq[i]` 來叫出 `seq` 中的第 `i` 個元素  \n",
    "但注意在程式設計中，元素是從 0 開始數"
   ]
  },
  {
   "cell_type": "code",
   "execution_count": 24,
   "metadata": {},
   "outputs": [
    {
     "data": {
      "text/plain": [
       "3"
      ]
     },
     "execution_count": 24,
     "metadata": {},
     "output_type": "execute_result"
    }
   ],
   "source": [
    "seq[2]"
   ]
  },
  {
   "cell_type": "markdown",
   "metadata": {},
   "source": [
    "Sage 中可以用 `range(n)` 來叫出  \n",
    "`[0, 1, ..., n-1]`  \n",
    "這個列表（`n` 不在裡面）  "
   ]
  },
  {
   "cell_type": "code",
   "execution_count": 26,
   "metadata": {},
   "outputs": [
    {
     "data": {
      "text/plain": [
       "[0, 1, 2, 3, 4, 5, 6, 7, 8, 9]"
      ]
     },
     "execution_count": 26,
     "metadata": {},
     "output_type": "execute_result"
    }
   ],
   "source": [
    "seq = range(10)\n",
    "seq"
   ]
  },
  {
   "cell_type": "markdown",
   "metadata": {},
   "source": [
    "也可以用 `range(a,b)` 來叫出  \n",
    "`[a, a+1, ..., b-1]`  \n",
    "這個列表（`b` 不在裡面）"
   ]
  },
  {
   "cell_type": "code",
   "execution_count": 27,
   "metadata": {},
   "outputs": [
    {
     "data": {
      "text/plain": [
       "[3, 4, 5, 6, 7, 8, 9]"
      ]
     },
     "execution_count": 27,
     "metadata": {},
     "output_type": "execute_result"
    }
   ],
   "source": [
    "seq = range(3,10)\n",
    "seq"
   ]
  },
  {
   "cell_type": "markdown",
   "metadata": {},
   "source": [
    "### 迴圈\n",
    "\n",
    "電腦擅長做重覆且類似的事情  \n",
    "\n",
    "一個**迴圈**（loop）可以  \n",
    "對列表中的所有元素  \n",
    "做相同的事情\n",
    "\n",
    "```Python\n",
    "for element in some_list:\n",
    "    do something\n",
    "```"
   ]
  },
  {
   "cell_type": "code",
   "execution_count": 88,
   "metadata": {},
   "outputs": [
    {
     "name": "stdout",
     "output_type": "stream",
     "text": [
      "2 is a prime number\n",
      "3 is a prime number\n",
      "5 is a prime number\n",
      "7 is a prime number\n",
      "11 is a prime number\n"
     ]
    }
   ],
   "source": [
    "seq = [2,3,5,7,11]\n",
    "\n",
    "for p in seq:\n",
    "    print p, 'is a prime number'"
   ]
  },
  {
   "cell_type": "markdown",
   "metadata": {},
   "source": [
    "配合一些 `if` 的判斷式  \n",
    "可以讓迴圈更加靈活"
   ]
  },
  {
   "cell_type": "code",
   "execution_count": 89,
   "metadata": {},
   "outputs": [
    {
     "name": "stdout",
     "output_type": "stream",
     "text": [
      "1\n",
      "14\n",
      "18\n",
      "27\n",
      "35\n",
      "40\n",
      "52\n",
      "53\n",
      "66\n",
      "69\n",
      "79\n",
      "86\n",
      "92\n"
     ]
    }
   ],
   "source": [
    "for i in range(1,101):\n",
    "    if i%13 == 1 or i%17 == 1:\n",
    "        print i"
   ]
  },
  {
   "cell_type": "markdown",
   "metadata": {},
   "source": [
    "### 等差數列\n",
    "\n",
    "一個**等差數列**  \n",
    "$a_1, a_2,\\ldots, a_n$  \n",
    "中的每一項都符合 $a_{k+1}=a_k+d$ 的條件\n",
    "\n",
    "其中 $a_1$ 叫做**首項**  \n",
    "而 $d$ 叫做**公差** "
   ]
  },
  {
   "cell_type": "markdown",
   "metadata": {},
   "source": [
    "比如說  \n",
    "首項為 5  \n",
    "公差為 2"
   ]
  },
  {
   "cell_type": "code",
   "execution_count": 90,
   "metadata": {},
   "outputs": [],
   "source": [
    "a = 5\n",
    "d = 2"
   ]
  },
  {
   "cell_type": "markdown",
   "metadata": {},
   "source": [
    "當執行 `a = a + d` 時  \n",
    "意思是將 `a` 更新成 `a + d`  \n",
    "（所以將下方的程式跑 9 次就會得到 $a_{10}$）"
   ]
  },
  {
   "cell_type": "code",
   "execution_count": 96,
   "metadata": {},
   "outputs": [
    {
     "data": {
      "text/plain": [
       "17"
      ]
     },
     "execution_count": 96,
     "metadata": {},
     "output_type": "execute_result"
    }
   ],
   "source": [
    "a = a + d\n",
    "a"
   ]
  },
  {
   "cell_type": "markdown",
   "metadata": {},
   "source": [
    "利用迴圈讓事情變得更簡單"
   ]
  },
  {
   "cell_type": "code",
   "execution_count": 97,
   "metadata": {},
   "outputs": [
    {
     "name": "stdout",
     "output_type": "stream",
     "text": [
      "1 5\n",
      "2 7\n",
      "3 9\n",
      "4 11\n",
      "5 13\n",
      "6 15\n",
      "7 17\n",
      "8 19\n",
      "9 21\n",
      "10 23\n"
     ]
    }
   ],
   "source": [
    "a = 5\n",
    "d = 2\n",
    "\n",
    "print 1, a\n",
    "\n",
    "for i in range(2,11):\n",
    "    a = a + d\n",
    "    print i, a"
   ]
  },
  {
   "cell_type": "markdown",
   "metadata": {},
   "source": [
    "但數學理論常常能給出簡潔的答案  \n",
    "$a_n = a_1 + (n-1)d$"
   ]
  },
  {
   "cell_type": "code",
   "execution_count": 15,
   "metadata": {},
   "outputs": [
    {
     "data": {
      "text/plain": [
       "23"
      ]
     },
     "execution_count": 15,
     "metadata": {},
     "output_type": "execute_result"
    }
   ],
   "source": [
    "a = 5\n",
    "d = 2\n",
    "a10 = a + (10 - 1)*d\n",
    "a10"
   ]
  },
  {
   "cell_type": "markdown",
   "metadata": {},
   "source": [
    "### 等比數列\n",
    "\n",
    "一個**等比數列**  \n",
    "$a_1, a_2,\\ldots, a_n$  \n",
    "中的每一項都符合 $a_{k+1}=a_k\\times r$ 的條件\n",
    "\n",
    "其中 $a_1$ 叫做**首項**  \n",
    "而 $r$ 叫做**公比** "
   ]
  },
  {
   "cell_type": "markdown",
   "metadata": {},
   "source": [
    "比如說  \n",
    "首項為 5  \n",
    "公比為 2"
   ]
  },
  {
   "cell_type": "code",
   "execution_count": 51,
   "metadata": {},
   "outputs": [],
   "source": [
    "a = 5\n",
    "r = 2"
   ]
  },
  {
   "cell_type": "markdown",
   "metadata": {},
   "source": [
    "當執行 `a = a * d` 時  \n",
    "意思是將 `a` 更新成 `a * d`  \n",
    "（所以將下方的程式跑 9 次就會得到 $a_{10}$）"
   ]
  },
  {
   "cell_type": "code",
   "execution_count": 55,
   "metadata": {},
   "outputs": [
    {
     "data": {
      "text/plain": [
       "80"
      ]
     },
     "execution_count": 55,
     "metadata": {},
     "output_type": "execute_result"
    }
   ],
   "source": [
    "a = a * r\n",
    "a"
   ]
  },
  {
   "cell_type": "markdown",
   "metadata": {},
   "source": [
    "同樣可以用迴卷來處理"
   ]
  },
  {
   "cell_type": "code",
   "execution_count": 50,
   "metadata": {},
   "outputs": [
    {
     "name": "stdout",
     "output_type": "stream",
     "text": [
      "1 5\n",
      "2 10\n",
      "3 20\n",
      "4 40\n",
      "5 80\n",
      "6 160\n",
      "7 320\n",
      "8 640\n",
      "9 1280\n",
      "10 2560\n"
     ]
    }
   ],
   "source": [
    "a = 5\n",
    "r = 2\n",
    "\n",
    "print 1, a\n",
    "\n",
    "for i in range(2,11):\n",
    "    a = a * r\n",
    "    print i, a"
   ]
  },
  {
   "cell_type": "markdown",
   "metadata": {},
   "source": [
    "等比及數的第 $n$ 項為  \n",
    "$a_n = a_1 \\times r^{n-1}$"
   ]
  },
  {
   "cell_type": "code",
   "execution_count": 19,
   "metadata": {},
   "outputs": [
    {
     "data": {
      "text/plain": [
       "2560"
      ]
     },
     "execution_count": 19,
     "metadata": {},
     "output_type": "execute_result"
    }
   ],
   "source": [
    "a = 5\n",
    "r = 2\n",
    "a10 = a * r^(10-1)\n",
    "a10"
   ]
  },
  {
   "cell_type": "markdown",
   "metadata": {},
   "source": [
    "### 級數\n",
    "\n",
    "一個**級數**指的是一連串數字的和  \n",
    "$a_1+a_2+\\cdots +a_n$"
   ]
  },
  {
   "cell_type": "markdown",
   "metadata": {},
   "source": [
    "`sum` 函數可以計算列表中所有元素的總和"
   ]
  },
  {
   "cell_type": "code",
   "execution_count": 98,
   "metadata": {},
   "outputs": [
    {
     "data": {
      "text/plain": [
       "15"
      ]
     },
     "execution_count": 98,
     "metadata": {},
     "output_type": "execute_result"
    }
   ],
   "source": [
    "seq = [1,2,3,4,5]\n",
    "sum(seq)"
   ]
  },
  {
   "cell_type": "markdown",
   "metadata": {},
   "source": [
    "也可以利用迴圈來計算總和：\n",
    "\n",
    "設定 `total = 0`  \n",
    "每次把各個元素加進去 `total = total + i`"
   ]
  },
  {
   "cell_type": "code",
   "execution_count": 36,
   "metadata": {},
   "outputs": [
    {
     "data": {
      "text/plain": [
       "15"
      ]
     },
     "execution_count": 36,
     "metadata": {},
     "output_type": "execute_result"
    }
   ],
   "source": [
    "seq = [1,2,3,4,5]\n",
    "\n",
    "total = 0\n",
    "for i in seq:\n",
    "    total = total + i\n",
    "    \n",
    "total"
   ]
  },
  {
   "cell_type": "markdown",
   "metadata": {},
   "source": [
    "用迴圈來計算等差級數"
   ]
  },
  {
   "cell_type": "code",
   "execution_count": 56,
   "metadata": {},
   "outputs": [
    {
     "name": "stdout",
     "output_type": "stream",
     "text": [
      "1 5 5\n",
      "2 7 12\n",
      "3 9 21\n",
      "4 11 32\n",
      "5 13 45\n",
      "6 15 60\n",
      "7 17 77\n",
      "8 19 96\n",
      "9 21 117\n",
      "10 23 140\n"
     ]
    }
   ],
   "source": [
    "a = 5\n",
    "d = 2\n",
    "\n",
    "total = a\n",
    "print 1, a, total\n",
    "\n",
    "for i in range(2,11):\n",
    "    a = a + d\n",
    "    total = total + a\n",
    "    print i, a, total"
   ]
  },
  {
   "cell_type": "markdown",
   "metadata": {},
   "source": [
    "首項為 $a_1$ 而公差為 $d$ 的等差級數為  \n",
    "$a_1+\\cdots +a_n=\\frac{(a_1+a_n)\\times n}{2} = \\frac{(a_1+a_1+(n-1)d)\\times n}{2}$"
   ]
  },
  {
   "cell_type": "markdown",
   "metadata": {},
   "source": [
    "算出來答案應該要一樣"
   ]
  },
  {
   "cell_type": "code",
   "execution_count": 100,
   "metadata": {},
   "outputs": [
    {
     "data": {
      "text/plain": [
       "140"
      ]
     },
     "execution_count": 100,
     "metadata": {},
     "output_type": "execute_result"
    }
   ],
   "source": [
    "a = 5\n",
    "d = 2\n",
    "\n",
    "(a + a + (10 - 1)*d) * 10 / 2"
   ]
  },
  {
   "cell_type": "markdown",
   "metadata": {},
   "source": [
    "用迴圈來計算等比級數"
   ]
  },
  {
   "cell_type": "code",
   "execution_count": 101,
   "metadata": {},
   "outputs": [
    {
     "name": "stdout",
     "output_type": "stream",
     "text": [
      "1 5 5\n",
      "2 10 15\n",
      "3 20 35\n",
      "4 40 75\n",
      "5 80 155\n",
      "6 160 315\n",
      "7 320 635\n",
      "8 640 1275\n",
      "9 1280 2555\n",
      "10 2560 5115\n"
     ]
    }
   ],
   "source": [
    "a = 5\n",
    "r = 2\n",
    "\n",
    "total = a\n",
    "print 1, a, total\n",
    "\n",
    "for i in range(2,11):\n",
    "    a = a * r\n",
    "    total = total + a\n",
    "    print i, a, total"
   ]
  },
  {
   "cell_type": "markdown",
   "metadata": {},
   "source": [
    "首項為 $a_1$ 而公比為 $r$（$r\\neq 1$）的等比級數為  \n",
    "$a_1+\\cdots +a_n=a_1\\times \\frac{1-r^n}{1-r}$  \n",
    "\n",
    "若 $r=1$  \n",
    "則 $a_1+\\cdots +a_n=a_1+\\cdots +a_1=na_1$"
   ]
  },
  {
   "cell_type": "markdown",
   "metadata": {},
   "source": [
    "算出來答案應該要一樣"
   ]
  },
  {
   "cell_type": "code",
   "execution_count": 102,
   "metadata": {},
   "outputs": [
    {
     "data": {
      "text/plain": [
       "5115"
      ]
     },
     "execution_count": 102,
     "metadata": {},
     "output_type": "execute_result"
    }
   ],
   "source": [
    "a = 5\n",
    "r = 2\n",
    "\n",
    "a * ((1-r^10) / (1-r))"
   ]
  },
  {
   "cell_type": "markdown",
   "metadata": {},
   "source": [
    "### 列表推導式（list comprehension）\n",
    "\n",
    "數學中的集合可以用條件來組成  \n",
    "比如說 $\\{x^2: 1\\leq x\\leq 100, x\\text{ is prime}\\}$\n",
    "\n",
    "Sage 中的列表中也可以做類似的事情  \n",
    "`[x^2 for x in range(1,101) if is_prime(x)]`"
   ]
  },
  {
   "cell_type": "code",
   "execution_count": 58,
   "metadata": {},
   "outputs": [
    {
     "data": {
      "text/plain": [
       "[2, 4, 6, 8, 10, 12, 14, 16, 18, 20]"
      ]
     },
     "execution_count": 58,
     "metadata": {},
     "output_type": "execute_result"
    }
   ],
   "source": [
    "seq = [2*k for k in range(1,11)]\n",
    "seq"
   ]
  },
  {
   "cell_type": "code",
   "execution_count": 60,
   "metadata": {},
   "outputs": [
    {
     "data": {
      "text/plain": [
       "[1, 4, 9, 16, 25, 36, 49, 64, 81, 100]"
      ]
     },
     "execution_count": 60,
     "metadata": {},
     "output_type": "execute_result"
    }
   ],
   "source": [
    "seq = [k^2 for k in range(1,11)]\n",
    "seq"
   ]
  },
  {
   "cell_type": "markdown",
   "metadata": {},
   "source": [
    "配合 `sum` 函數來計算列表的總和"
   ]
  },
  {
   "cell_type": "code",
   "execution_count": 61,
   "metadata": {},
   "outputs": [
    {
     "data": {
      "text/plain": [
       "110"
      ]
     },
     "execution_count": 61,
     "metadata": {},
     "output_type": "execute_result"
    }
   ],
   "source": [
    "seq = [2*k for k in range(1,11)]\n",
    "sum(seq)"
   ]
  },
  {
   "cell_type": "code",
   "execution_count": 62,
   "metadata": {},
   "outputs": [
    {
     "data": {
      "text/plain": [
       "385"
      ]
     },
     "execution_count": 62,
     "metadata": {},
     "output_type": "execute_result"
    }
   ],
   "source": [
    "seq = [k^2 for k in range(1,11)]\n",
    "sum(seq)"
   ]
  },
  {
   "cell_type": "markdown",
   "metadata": {},
   "source": [
    "加上 `if` 判斷式"
   ]
  },
  {
   "cell_type": "code",
   "execution_count": 78,
   "metadata": {},
   "outputs": [
    {
     "data": {
      "text/plain": [
       "60"
      ]
     },
     "execution_count": 78,
     "metadata": {},
     "output_type": "execute_result"
    }
   ],
   "source": [
    "seq = [2*k for k in range(1,11) if k%2 == 0]\n",
    "sum(seq)"
   ]
  },
  {
   "cell_type": "code",
   "execution_count": 79,
   "metadata": {},
   "outputs": [
    {
     "data": {
      "text/plain": [
       "220"
      ]
     },
     "execution_count": 79,
     "metadata": {},
     "output_type": "execute_result"
    }
   ],
   "source": [
    "seq = [k^2 for k in range(1,11) if k%2 == 0]\n",
    "sum(seq)"
   ]
  },
  {
   "cell_type": "markdown",
   "metadata": {},
   "source": [
    "## 排列組合"
   ]
  },
  {
   "cell_type": "markdown",
   "metadata": {},
   "source": [
    "### 排列\n",
    "\n",
    "從 $n$ 個東西中拿出 $k$ 個出來**排列**時要計較順序  \n",
    "可以用 `Permutations` 來找出所有排列  \n",
    "（注意最後有個 `s`）"
   ]
  },
  {
   "cell_type": "code",
   "execution_count": 8,
   "metadata": {},
   "outputs": [
    {
     "name": "stdout",
     "output_type": "stream",
     "text": [
      "[1, 2]\n",
      "[1, 3]\n",
      "[1, 4]\n",
      "[1, 5]\n",
      "[2, 1]\n",
      "[2, 3]\n",
      "[2, 4]\n",
      "[2, 5]\n",
      "[3, 1]\n",
      "[3, 2]\n",
      "[3, 4]\n",
      "[3, 5]\n",
      "[4, 1]\n",
      "[4, 2]\n",
      "[4, 3]\n",
      "[4, 5]\n",
      "[5, 1]\n",
      "[5, 2]\n",
      "[5, 3]\n",
      "[5, 4]\n"
     ]
    }
   ],
   "source": [
    "elements = [1,2,3,4,5]\n",
    "for per in Permutations(elements,2):\n",
    "    print per"
   ]
  },
  {
   "cell_type": "markdown",
   "metadata": {},
   "source": [
    "從 $n$ 個東西中拿出 $k$ 個出來排列的  \n",
    "方法數有 $P^n_k=\\frac{n!}{(n-k)!}$ 種\n",
    "\n",
    "也有人把 $P^n_k$ 記作 $[n]_k$"
   ]
  },
  {
   "cell_type": "code",
   "execution_count": 9,
   "metadata": {},
   "outputs": [
    {
     "data": {
      "text/plain": [
       "20"
      ]
     },
     "execution_count": 9,
     "metadata": {},
     "output_type": "execute_result"
    }
   ],
   "source": [
    "factorial(5)/factorial(5-2)"
   ]
  },
  {
   "cell_type": "markdown",
   "metadata": {},
   "source": [
    "### 組合\n",
    "\n",
    "從 $n$ 個東西中拿出 $k$ 個出來**組合**時要**不計較**順序  \n",
    "可以用 `Combinations` 來找出所有組合  \n",
    "（注意最後一樣有個 `s`）"
   ]
  },
  {
   "cell_type": "code",
   "execution_count": 14,
   "metadata": {},
   "outputs": [
    {
     "name": "stdout",
     "output_type": "stream",
     "text": [
      "[1, 2]\n",
      "[1, 3]\n",
      "[1, 4]\n",
      "[1, 5]\n",
      "[2, 3]\n",
      "[2, 4]\n",
      "[2, 5]\n",
      "[3, 4]\n",
      "[3, 5]\n",
      "[4, 5]\n"
     ]
    }
   ],
   "source": [
    "elements = [1,2,3,4,5]\n",
    "for com in Combinations(elements,2):\n",
    "    print com"
   ]
  },
  {
   "cell_type": "markdown",
   "metadata": {},
   "source": [
    "從 $n$ 個東西中拿出 $k$ 個出來組合的  \n",
    "方法數有 $C^n_k=\\frac{n!}{k!(n-k)!}$ 種\n",
    "\n",
    "也有人把 $C^n_k$ 記作 $\\binom{n}{k}$  "
   ]
  },
  {
   "cell_type": "code",
   "execution_count": 12,
   "metadata": {},
   "outputs": [
    {
     "data": {
      "text/plain": [
       "10"
      ]
     },
     "execution_count": 12,
     "metadata": {},
     "output_type": "execute_result"
    }
   ],
   "source": [
    "factorial(5)/factorial(5-2)/factorial(2)"
   ]
  },
  {
   "cell_type": "markdown",
   "metadata": {},
   "source": [
    "### 計數組合學（Enumerative Combinatorics）\n",
    "\n",
    "到底有幾個？何不全部列出來試試看？"
   ]
  },
  {
   "cell_type": "markdown",
   "metadata": {},
   "source": [
    "自己設定一個參數（比如說 `counter`）來計算次數"
   ]
  },
  {
   "cell_type": "markdown",
   "metadata": {},
   "source": [
    "在 1 到 100 中  \n",
    "除以 13 餘 1  \n",
    "或是  \n",
    "除以 17 餘 1  \n",
    "的數字有幾個"
   ]
  },
  {
   "cell_type": "code",
   "execution_count": 13,
   "metadata": {},
   "outputs": [
    {
     "name": "stdout",
     "output_type": "stream",
     "text": [
      "1\n",
      "14\n",
      "18\n",
      "27\n",
      "35\n",
      "40\n",
      "52\n",
      "53\n",
      "66\n",
      "69\n",
      "79\n",
      "86\n",
      "92\n"
     ]
    },
    {
     "data": {
      "text/plain": [
       "13"
      ]
     },
     "execution_count": 13,
     "metadata": {},
     "output_type": "execute_result"
    }
   ],
   "source": [
    "counter = 0\n",
    "\n",
    "for i in range(1,101):\n",
    "    if i%13 == 1 or i%17 == 1:\n",
    "        counter = counter + 1\n",
    "        print i\n",
    "\n",
    "counter"
   ]
  },
  {
   "cell_type": "markdown",
   "metadata": {},
   "source": [
    "數字 1,2,3,4,5 排成一排  \n",
    "1 在開頭  \n",
    "而且  \n",
    "5 不在結尾  \n",
    "的排列有幾種"
   ]
  },
  {
   "cell_type": "code",
   "execution_count": 15,
   "metadata": {},
   "outputs": [
    {
     "data": {
      "text/plain": [
       "18"
      ]
     },
     "execution_count": 15,
     "metadata": {},
     "output_type": "execute_result"
    }
   ],
   "source": [
    "elements = [1,2,3,4,5]\n",
    "\n",
    "counter = 0\n",
    "for per in Permutations(elements,5):\n",
    "    if per[0] == 1 and per[4] != 5:\n",
    "        counter = counter + 1\n",
    "        #print per\n",
    "\n",
    "counter"
   ]
  },
  {
   "cell_type": "markdown",
   "metadata": {},
   "source": [
    "數字 1,1,2,2,3 排成一排  \n",
    "的排列有幾種"
   ]
  },
  {
   "cell_type": "code",
   "execution_count": 17,
   "metadata": {},
   "outputs": [
    {
     "data": {
      "text/plain": [
       "30"
      ]
     },
     "execution_count": 17,
     "metadata": {},
     "output_type": "execute_result"
    }
   ],
   "source": [
    "elements = [1,1,2,2,3]\n",
    "\n",
    "counter = 0\n",
    "for per in Permutations(elements,5):\n",
    "    counter = counter + 1\n",
    "    #print per\n",
    "\n",
    "counter"
   ]
  },
  {
   "cell_type": "markdown",
   "metadata": {},
   "source": [
    "從數字 1,2,3,4,5 中選出三個  \n",
    "選到 1  \n",
    "而且  \n",
    "沒選到 5  \n",
    "的組合有幾種"
   ]
  },
  {
   "cell_type": "code",
   "execution_count": 19,
   "metadata": {},
   "outputs": [
    {
     "data": {
      "text/plain": [
       "3"
      ]
     },
     "execution_count": 19,
     "metadata": {},
     "output_type": "execute_result"
    }
   ],
   "source": [
    "elements = [1,2,3,4,5]\n",
    "\n",
    "counter = 0\n",
    "for com in Combinations(elements,3):\n",
    "    if 1 in com and 5 not in com:\n",
    "        counter = counter + 1\n",
    "        #print com\n",
    "\n",
    "counter"
   ]
  },
  {
   "cell_type": "markdown",
   "metadata": {},
   "source": [
    "從數字 1,1,2,2,3 中選出三個  \n",
    "的組合有幾種"
   ]
  },
  {
   "cell_type": "code",
   "execution_count": 2,
   "metadata": {},
   "outputs": [
    {
     "data": {
      "text/plain": [
       "5"
      ]
     },
     "execution_count": 2,
     "metadata": {},
     "output_type": "execute_result"
    }
   ],
   "source": [
    "elements = [1,1,2,2,3]\n",
    "\n",
    "counter = 0\n",
    "for com in Combinations(elements,3):\n",
    "    counter = counter + 1\n",
    "    #print com\n",
    "\n",
    "counter"
   ]
  },
  {
   "cell_type": "markdown",
   "metadata": {},
   "source": [
    "$x+y+z = 5$  \n",
    "的非負整數解有幾組"
   ]
  },
  {
   "cell_type": "code",
   "execution_count": 3,
   "metadata": {},
   "outputs": [
    {
     "data": {
      "text/plain": [
       "21"
      ]
     },
     "execution_count": 3,
     "metadata": {},
     "output_type": "execute_result"
    }
   ],
   "source": [
    "counter = 0\n",
    "\n",
    "for x in range(6):\n",
    "    for y in range(6):\n",
    "        for z in range(6):\n",
    "            if x + y + z == 5:\n",
    "                counter = counter + 1\n",
    "                #print x, y, z\n",
    "                \n",
    "counter"
   ]
  },
  {
   "cell_type": "markdown",
   "metadata": {},
   "source": [
    "$x+y+z=5$  \n",
    "的正整數解有幾組"
   ]
  },
  {
   "cell_type": "code",
   "execution_count": 4,
   "metadata": {},
   "outputs": [
    {
     "data": {
      "text/plain": [
       "6"
      ]
     },
     "execution_count": 4,
     "metadata": {},
     "output_type": "execute_result"
    }
   ],
   "source": [
    "counter = 0\n",
    "\n",
    "for x in range(1,6):\n",
    "    for y in range(1,6):\n",
    "        for z in range(1,6):\n",
    "            if x + y + z == 5:\n",
    "                counter = counter + 1\n",
    "                #print x, y, z\n",
    "                \n",
    "counter"
   ]
  },
  {
   "cell_type": "markdown",
   "metadata": {},
   "source": [
    "100 的因數有幾個"
   ]
  },
  {
   "cell_type": "code",
   "execution_count": 24,
   "metadata": {},
   "outputs": [
    {
     "data": {
      "text/plain": [
       "9"
      ]
     },
     "execution_count": 24,
     "metadata": {},
     "output_type": "execute_result"
    }
   ],
   "source": [
    "n = 100\n",
    "\n",
    "counter = 0\n",
    "\n",
    "for p in range(1,101):\n",
    "    if n % p == 0:\n",
    "        counter = counter + 1\n",
    "        #print p\n",
    "        \n",
    "counter"
   ]
  },
  {
   "cell_type": "markdown",
   "metadata": {},
   "source": [
    "100 的因為總和是多少"
   ]
  },
  {
   "cell_type": "code",
   "execution_count": 25,
   "metadata": {},
   "outputs": [
    {
     "data": {
      "text/plain": [
       "217"
      ]
     },
     "execution_count": 25,
     "metadata": {},
     "output_type": "execute_result"
    }
   ],
   "source": [
    "n = 100\n",
    "\n",
    "total = 0\n",
    "\n",
    "for p in range(1,101):\n",
    "    if n % p == 0:\n",
    "        total = total + p\n",
    "        #print p, total\n",
    "        \n",
    "total"
   ]
  },
  {
   "cell_type": "markdown",
   "metadata": {},
   "source": [
    "### 二項式定理\n",
    "\n",
    "將 $(1+x)^n$ 展開後  \n",
    "其 $x^k$ 的係數為 $C^n_k$  \n",
    "\n",
    "所以 $C^n_k$ 又稱為**二項式係數**（binomial coefficient）"
   ]
  },
  {
   "cell_type": "code",
   "execution_count": 5,
   "metadata": {},
   "outputs": [
    {
     "name": "stdout",
     "output_type": "stream",
     "text": [
      "x^10 + 10*x^9 + 45*x^8 + 120*x^7 + 210*x^6 + 252*x^5 + 210*x^4 + 120*x^3 + 45*x^2 + 10*x + 1\n",
      "210\n"
     ]
    }
   ],
   "source": [
    "x = var('x')\n",
    "n = 10\n",
    "k = 4\n",
    "\n",
    "p = expand((1+x)^n)\n",
    "\n",
    "print p\n",
    "print p.coefficient(x^k)"
   ]
  },
  {
   "cell_type": "markdown",
   "metadata": {},
   "source": [
    "驗證一下對不對"
   ]
  },
  {
   "cell_type": "code",
   "execution_count": 9,
   "metadata": {},
   "outputs": [
    {
     "data": {
      "text/plain": [
       "210"
      ]
     },
     "execution_count": 9,
     "metadata": {},
     "output_type": "execute_result"
    }
   ],
   "source": [
    "n = 10\n",
    "k = 4\n",
    "\n",
    "factorial(n)/factorial(n-k)/factorial(k)"
   ]
  },
  {
   "cell_type": "markdown",
   "metadata": {},
   "source": [
    "也可以用 `binomial(n,k)` 來計算  "
   ]
  },
  {
   "cell_type": "code",
   "execution_count": 10,
   "metadata": {},
   "outputs": [
    {
     "data": {
      "text/plain": [
       "210"
      ]
     },
     "execution_count": 10,
     "metadata": {},
     "output_type": "execute_result"
    }
   ],
   "source": [
    "n = 10\n",
    "k = 4\n",
    "\n",
    "binomial(n,k)"
   ]
  },
  {
   "cell_type": "markdown",
   "metadata": {},
   "source": [
    "## 離散機率\n",
    "\n",
    "機率就存在我們生活之中  \n",
    "用 `random` 套件來模擬看看吧！"
   ]
  },
  {
   "cell_type": "markdown",
   "metadata": {},
   "source": [
    "後面的程式很多都要用到 `random` 套件  \n",
    "記得要執行下面這行以後才能用"
   ]
  },
  {
   "cell_type": "code",
   "execution_count": 12,
   "metadata": {},
   "outputs": [],
   "source": [
    "import random"
   ]
  },
  {
   "cell_type": "markdown",
   "metadata": {},
   "source": [
    "`random.choice` 會從輸入的列表中  \n",
    "隨機挑出一個元素  \n",
    "\n",
    "多執行幾次試試看"
   ]
  },
  {
   "cell_type": "code",
   "execution_count": 13,
   "metadata": {},
   "outputs": [
    {
     "data": {
      "text/plain": [
       "5"
      ]
     },
     "execution_count": 13,
     "metadata": {},
     "output_type": "execute_result"
    }
   ],
   "source": [
    "numbers = [1,2,3,4,5,6]\n",
    "random.choice(numbers)"
   ]
  },
  {
   "cell_type": "markdown",
   "metadata": {},
   "source": [
    "把它包成一個函數就可以  \n",
    "做出一個虛擬的骰子了"
   ]
  },
  {
   "cell_type": "code",
   "execution_count": 29,
   "metadata": {},
   "outputs": [],
   "source": [
    "def roll_a_dice():\n",
    "    return random.choice([1,2,3,4,5,6])"
   ]
  },
  {
   "cell_type": "code",
   "execution_count": 34,
   "metadata": {},
   "outputs": [
    {
     "data": {
      "text/plain": [
       "2"
      ]
     },
     "execution_count": 34,
     "metadata": {},
     "output_type": "execute_result"
    }
   ],
   "source": [
    "roll_a_dice()"
   ]
  },
  {
   "cell_type": "markdown",
   "metadata": {},
   "source": [
    "骰子公不公正？  \n",
    "要試試看才知道"
   ]
  },
  {
   "cell_type": "code",
   "execution_count": 37,
   "metadata": {},
   "outputs": [
    {
     "name": "stdout",
     "output_type": "stream",
     "text": [
      "出現次數 [1670, 1643, 1632, 1678, 1735, 1642]\n",
      "機率 [0.1670, 0.1643, 0.1632, 0.1678, 0.1735, 0.1642]\n"
     ]
    }
   ],
   "source": [
    "counter = [0,0,0,0,0,0]\n",
    "n = 10000\n",
    "\n",
    "for i in range(n):\n",
    "    k = roll_a_dice()\n",
    "    counter[k-1] = counter[k-1] + 1\n",
    "    # 骰子的數字是 1,2,3,4,5,6\n",
    "    # counter 的編號是 0,1,2,3,4,5\n",
    "    \n",
    "print '出現次數',counter\n",
    "print '機率', [N(count/n, digits=4) for count in counter]"
   ]
  },
  {
   "cell_type": "markdown",
   "metadata": {},
   "source": [
    "也可以用 `random.randint(a,b)`  \n",
    "隨機從 `a` 到 `b` 之間取出一個數  \n",
    "（注意 `a` 和 `b` 都有可能取到，這和 `range(a,b)` 不一樣）"
   ]
  },
  {
   "cell_type": "code",
   "execution_count": 14,
   "metadata": {},
   "outputs": [
    {
     "data": {
      "text/plain": [
       "3"
      ]
     },
     "execution_count": 14,
     "metadata": {},
     "output_type": "execute_result"
    }
   ],
   "source": [
    "random.randint(1,6)"
   ]
  },
  {
   "cell_type": "markdown",
   "metadata": {},
   "source": [
    "從 1 到 100 中  \n",
    "有幾個質數？  \n",
    "選到一個質數的機率是多少？"
   ]
  },
  {
   "cell_type": "code",
   "execution_count": 56,
   "metadata": {},
   "outputs": [
    {
     "name": "stdout",
     "output_type": "stream",
     "text": [
      "25\n",
      "0.250000000000000\n"
     ]
    }
   ],
   "source": [
    "counter = 0\n",
    "\n",
    "for i in range(1,101):\n",
    "    if is_prime(i):\n",
    "        counter = counter + 1\n",
    "        \n",
    "print counter\n",
    "print N(counter/100)"
   ]
  },
  {
   "cell_type": "markdown",
   "metadata": {},
   "source": [
    "包成一個函數\n",
    "\n",
    "從 1 到 `K` 中  \n",
    "選出一個數字  \n",
    "回傳這數字是不是質數"
   ]
  },
  {
   "cell_type": "code",
   "execution_count": 68,
   "metadata": {},
   "outputs": [],
   "source": [
    "def prime_in_K(K=100):\n",
    "    p = random.randint(1,K)\n",
    "    return is_prime(p)"
   ]
  },
  {
   "cell_type": "markdown",
   "metadata": {},
   "source": [
    "真的來測測看機率  \n",
    "\n",
    "換言之，這就是 1 到 `K` 中  \n",
    "質數出現在比率  \n",
    "\n",
    "換成不同的 `K` 試試看"
   ]
  },
  {
   "cell_type": "code",
   "execution_count": 77,
   "metadata": {},
   "outputs": [
    {
     "data": {
      "text/plain": [
       "0.00290000000000000"
      ]
     },
     "execution_count": 77,
     "metadata": {},
     "output_type": "execute_result"
    }
   ],
   "source": [
    "K = 100\n",
    "n = 10000\n",
    "\n",
    "counter = 0\n",
    "\n",
    "for i in range(K):\n",
    "    if prime_in_K():\n",
    "        counter = counter + 1\n",
    "        \n",
    "N(counter / n)"
   ]
  },
  {
   "cell_type": "markdown",
   "metadata": {},
   "source": [
    "#### Monty Hall 問題\n",
    "\n",
    "美國有一個電視節目叫 Let's Make a Deal  \n",
    "（Monty Hall 是主持人）  \n",
    "\n",
    "節目中有三扇門  \n",
    "其中一扇後面是車子  \n",
    "另外兩扇後面是山羊  \n",
    "如果玩家選中車子的門  \n",
    "就可以帶走車子"
   ]
  },
  {
   "cell_type": "markdown",
   "metadata": {},
   "source": [
    "但是當玩家選好一扇門以後  \n",
    "主持人就會到後面看一看  \n",
    "打開一扇沒被選到的門  \n",
    "告訴玩家這扇門後面並不是車子  \n",
    "問你要不要換  \n",
    "\n",
    "如果你是玩家  \n",
    "你會換嗎？"
   ]
  },
  {
   "cell_type": "markdown",
   "metadata": {},
   "source": [
    "我們來**模擬一場遊戲**：\n",
    "\n",
    "三扇門  \n",
    "隨機選一扇放車子  \n",
    "玩家隨機選一個門  "
   ]
  },
  {
   "cell_type": "markdown",
   "metadata": {},
   "source": [
    "現在沒被選到又不是車子的門  \n",
    "可能有一扇（你沒選到車子）  \n",
    "也有可能是兩扇（你選到車子了！）  \n",
    "主持人打開其中一扇"
   ]
  },
  {
   "cell_type": "markdown",
   "metadata": {},
   "source": [
    "你決定換到最後那扇  \n",
    "沒選到 也不是主持人打開的  \n",
    "那扇門  \n",
    "\n",
    "然後開獎！  \n",
    "選中是 `True`  \n",
    "沒選中是 `False`"
   ]
  },
  {
   "cell_type": "code",
   "execution_count": 84,
   "metadata": {},
   "outputs": [
    {
     "data": {
      "text/plain": [
       "False"
      ]
     },
     "execution_count": 84,
     "metadata": {},
     "output_type": "execute_result"
    }
   ],
   "source": [
    "doors = [1,2,3]\n",
    "car = random.choice(doors)\n",
    "player_choose = random.choice(doors)\n",
    "\n",
    "no_car_no_choose = [door for door in doors if door != car and door != player_choose]\n",
    "host_open = random.choice(no_car_no_choose)\n",
    "\n",
    "no_choose_no_open = [door for door in doors if door != player_choose and door != host_open]\n",
    "player_change = no_choose_no_open[0]\n",
    "\n",
    "player_change == car"
   ]
  },
  {
   "cell_type": "markdown",
   "metadata": {},
   "source": [
    "把整場遊戲包成一個函數  \n",
    "這樣我們才能一次又一次的模擬  \n",
    "並計算成功的機率"
   ]
  },
  {
   "cell_type": "code",
   "execution_count": 85,
   "metadata": {},
   "outputs": [],
   "source": [
    "def Monty_Hall_game():\n",
    "    doors = [1,2,3]\n",
    "    car = random.choice(doors)\n",
    "    player_choose = random.choice(doors)\n",
    "\n",
    "    no_car_no_choose = [door for door in doors if door != car and door != player_choose]\n",
    "    host_open = random.choice(no_car_no_choose)\n",
    "\n",
    "    no_choose_no_open = [door for door in doors if door != player_choose and door != host_open]\n",
    "    player_change = no_choose_no_open[0]\n",
    "\n",
    "    return player_change == car"
   ]
  },
  {
   "cell_type": "markdown",
   "metadata": {},
   "source": [
    "玩很多場試試看  \n",
    "究竟決定換一扇門  \n",
    "選到車子的機率是多少"
   ]
  },
  {
   "cell_type": "code",
   "execution_count": 86,
   "metadata": {},
   "outputs": [
    {
     "data": {
      "text/plain": [
       "0.666600000000000"
      ]
     },
     "execution_count": 86,
     "metadata": {},
     "output_type": "execute_result"
    }
   ],
   "source": [
    "n = 10000\n",
    "\n",
    "counter = 0\n",
    "for i in range(n):\n",
    "    if Monty_Hall_game():\n",
    "        counter = counter + 1\n",
    "\n",
    "N(counter / n)"
   ]
  },
  {
   "cell_type": "markdown",
   "metadata": {},
   "source": [
    "##  動手試試看"
   ]
  },
  {
   "cell_type": "markdown",
   "metadata": {},
   "source": [
    "##### 練習\n"
   ]
  },
  {
   "cell_type": "markdown",
   "metadata": {},
   "source": [
    "(Sequences and Combinatorics: sequences and series;combinatorics;discrete probability.  list, for loop, sequence, fibonacci, series, counting, multiply, add, binomial coefficients, counting numbers, probability, Monty Hall & Fall, basic statistics)"
   ]
  },
  {
   "cell_type": "markdown",
   "metadata": {},
   "source": [
    "monty fall"
   ]
  }
 ],
 "metadata": {
  "kernelspec": {
   "display_name": "SageMath 8.7",
   "language": "",
   "name": "sagemath"
  },
  "language_info": {
   "codemirror_mode": {
    "name": "ipython",
    "version": 2
   },
   "file_extension": ".py",
   "mimetype": "text/x-python",
   "name": "python",
   "nbconvert_exporter": "python",
   "pygments_lexer": "ipython2",
   "version": "2.7.16"
  }
 },
 "nbformat": 4,
 "nbformat_minor": 2
}
