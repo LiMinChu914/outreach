{
 "cells": [
  {
   "cell_type": "markdown",
   "metadata": {},
   "source": [
    "# 數列級數與排列組合（Sequences and Combinatorics）\n",
    "\n"
   ]
  },
  {
   "cell_type": "markdown",
   "metadata": {},
   "source": [
    "![Creative Commons License](https://i.creativecommons.org/l/by/4.0/88x31.png)\n",
    "\n",
    "This work by Jephian Lin is licensed under a [Creative Commons Attribution 4.0 International License](http://creativecommons.org/licenses/by/4.0/)."
   ]
  },
  {
   "cell_type": "markdown",
   "metadata": {},
   "source": [
    "_Tested on SageMath version 8.7_"
   ]
  },
  {
   "cell_type": "markdown",
   "metadata": {},
   "source": [
    "## 數列與級數"
   ]
  },
  {
   "cell_type": "markdown",
   "metadata": {},
   "source": [
    "### 數列\n",
    "\n",
    "一個**數列**指的是一連串的數字  \n",
    "$a_1,a_2,\\ldots,a_n$  "
   ]
  },
  {
   "cell_type": "markdown",
   "metadata": {},
   "source": [
    "在 Sage 中，我們可以用**列表**（list）來紀錄一個數列  \n",
    "一個列表由一組中括號和一些逗點組成  \n",
    "`[a1, a2, ..., an]`"
   ]
  },
  {
   "cell_type": "code",
   "execution_count": 87,
   "metadata": {},
   "outputs": [],
   "source": [
    "seq = [1,2,3,4,5]"
   ]
  },
  {
   "cell_type": "markdown",
   "metadata": {},
   "source": [
    "如果 `seq` 是一個列表  \n",
    "可以用 `seq[i]` 來叫出 `seq` 中的第 `i` 個元素  \n",
    "但注意在程式設計中，元素是從 0 開始數"
   ]
  },
  {
   "cell_type": "code",
   "execution_count": 24,
   "metadata": {},
   "outputs": [
    {
     "data": {
      "text/plain": [
       "3"
      ]
     },
     "execution_count": 24,
     "metadata": {},
     "output_type": "execute_result"
    }
   ],
   "source": [
    "seq[2]"
   ]
  },
  {
   "cell_type": "markdown",
   "metadata": {},
   "source": [
    "Sage 中可以用 `range(n)` 來叫出  \n",
    "`[0, 1, ..., n-1]`  \n",
    "這個列表（`n` 不在裡面）  "
   ]
  },
  {
   "cell_type": "code",
   "execution_count": 26,
   "metadata": {},
   "outputs": [
    {
     "data": {
      "text/plain": [
       "[0, 1, 2, 3, 4, 5, 6, 7, 8, 9]"
      ]
     },
     "execution_count": 26,
     "metadata": {},
     "output_type": "execute_result"
    }
   ],
   "source": [
    "seq = range(10)\n",
    "seq"
   ]
  },
  {
   "cell_type": "markdown",
   "metadata": {},
   "source": [
    "也可以用 `range(a,b)` 來叫出  \n",
    "`[a, a+1, ..., b-1]`  \n",
    "這個列表（`b` 不在裡面）"
   ]
  },
  {
   "cell_type": "code",
   "execution_count": 27,
   "metadata": {},
   "outputs": [
    {
     "data": {
      "text/plain": [
       "[3, 4, 5, 6, 7, 8, 9]"
      ]
     },
     "execution_count": 27,
     "metadata": {},
     "output_type": "execute_result"
    }
   ],
   "source": [
    "seq = range(3,10)\n",
    "seq"
   ]
  },
  {
   "cell_type": "markdown",
   "metadata": {},
   "source": [
    "### 迴圈\n",
    "\n",
    "電腦擅長做重覆且類似的事情  \n",
    "\n",
    "一個**迴圈**（loop）可以  \n",
    "對列表中的所有元素  \n",
    "做相同的事情\n",
    "\n",
    "```Python\n",
    "for element in some_list:\n",
    "    do something\n",
    "```"
   ]
  },
  {
   "cell_type": "code",
   "execution_count": 88,
   "metadata": {},
   "outputs": [
    {
     "name": "stdout",
     "output_type": "stream",
     "text": [
      "2 is a prime number\n",
      "3 is a prime number\n",
      "5 is a prime number\n",
      "7 is a prime number\n",
      "11 is a prime number\n"
     ]
    }
   ],
   "source": [
    "seq = [2,3,5,7,11]\n",
    "\n",
    "for p in seq:\n",
    "    print p, 'is a prime number'"
   ]
  },
  {
   "cell_type": "markdown",
   "metadata": {},
   "source": [
    "配合一些 `if` 的判斷式  \n",
    "可以讓迴圈更加靈活"
   ]
  },
  {
   "cell_type": "code",
   "execution_count": 89,
   "metadata": {},
   "outputs": [
    {
     "name": "stdout",
     "output_type": "stream",
     "text": [
      "1\n",
      "14\n",
      "18\n",
      "27\n",
      "35\n",
      "40\n",
      "52\n",
      "53\n",
      "66\n",
      "69\n",
      "79\n",
      "86\n",
      "92\n"
     ]
    }
   ],
   "source": [
    "for i in range(1,101):\n",
    "    if i%13 == 1 or i%17 == 1:\n",
    "        print i"
   ]
  },
  {
   "cell_type": "markdown",
   "metadata": {},
   "source": [
    "### 等差數列\n",
    "\n",
    "一個**等差數列**  \n",
    "$a_1, a_2,\\ldots, a_n$  \n",
    "中的每一項都符合 $a_{k+1}=a_k+d$ 的條件\n",
    "\n",
    "其中 $a_1$ 叫做**首項**  \n",
    "而 $d$ 叫做**公差** "
   ]
  },
  {
   "cell_type": "markdown",
   "metadata": {},
   "source": [
    "比如說  \n",
    "首項為 5  \n",
    "公差為 2"
   ]
  },
  {
   "cell_type": "code",
   "execution_count": 90,
   "metadata": {},
   "outputs": [],
   "source": [
    "a = 5\n",
    "d = 2"
   ]
  },
  {
   "cell_type": "markdown",
   "metadata": {},
   "source": [
    "當執行 `a = a + d` 時  \n",
    "意思是將 `a` 更新成 `a + d`  \n",
    "（所以將下方的程式跑 9 次就會得到 $a_{10}$）"
   ]
  },
  {
   "cell_type": "code",
   "execution_count": 96,
   "metadata": {},
   "outputs": [
    {
     "data": {
      "text/plain": [
       "17"
      ]
     },
     "execution_count": 96,
     "metadata": {},
     "output_type": "execute_result"
    }
   ],
   "source": [
    "a = a + d\n",
    "a"
   ]
  },
  {
   "cell_type": "markdown",
   "metadata": {},
   "source": [
    "利用迴圈讓事情變得更簡單"
   ]
  },
  {
   "cell_type": "code",
   "execution_count": 97,
   "metadata": {},
   "outputs": [
    {
     "name": "stdout",
     "output_type": "stream",
     "text": [
      "1 5\n",
      "2 7\n",
      "3 9\n",
      "4 11\n",
      "5 13\n",
      "6 15\n",
      "7 17\n",
      "8 19\n",
      "9 21\n",
      "10 23\n"
     ]
    }
   ],
   "source": [
    "a = 5\n",
    "d = 2\n",
    "\n",
    "print 1, a\n",
    "\n",
    "for i in range(2,11):\n",
    "    a = a + d\n",
    "    print i, a"
   ]
  },
  {
   "cell_type": "markdown",
   "metadata": {},
   "source": [
    "但數學理論常常能給出簡潔的答案  \n",
    "$a_n = a_1 + (n-1)d$"
   ]
  },
  {
   "cell_type": "code",
   "execution_count": 15,
   "metadata": {},
   "outputs": [
    {
     "data": {
      "text/plain": [
       "23"
      ]
     },
     "execution_count": 15,
     "metadata": {},
     "output_type": "execute_result"
    }
   ],
   "source": [
    "a = 5\n",
    "d = 2\n",
    "a10 = a + (10 - 1)*d\n",
    "a10"
   ]
  },
  {
   "cell_type": "markdown",
   "metadata": {},
   "source": [
    "### 等比數列\n",
    "\n",
    "一個**等比數列**  \n",
    "$a_1, a_2,\\ldots, a_n$  \n",
    "中的每一項都符合 $a_{k+1}=a_k\\times r$ 的條件\n",
    "\n",
    "其中 $a_1$ 叫做**首項**  \n",
    "而 $r$ 叫做**公比** "
   ]
  },
  {
   "cell_type": "markdown",
   "metadata": {},
   "source": [
    "比如說  \n",
    "首項為 5  \n",
    "公比為 2"
   ]
  },
  {
   "cell_type": "code",
   "execution_count": 51,
   "metadata": {},
   "outputs": [],
   "source": [
    "a = 5\n",
    "r = 2"
   ]
  },
  {
   "cell_type": "markdown",
   "metadata": {},
   "source": [
    "當執行 `a = a * d` 時  \n",
    "意思是將 `a` 更新成 `a * d`  \n",
    "（所以將下方的程式跑 9 次就會得到 $a_{10}$）"
   ]
  },
  {
   "cell_type": "code",
   "execution_count": 55,
   "metadata": {},
   "outputs": [
    {
     "data": {
      "text/plain": [
       "80"
      ]
     },
     "execution_count": 55,
     "metadata": {},
     "output_type": "execute_result"
    }
   ],
   "source": [
    "a = a * r\n",
    "a"
   ]
  },
  {
   "cell_type": "markdown",
   "metadata": {},
   "source": [
    "同樣可以用迴卷來處理"
   ]
  },
  {
   "cell_type": "code",
   "execution_count": 50,
   "metadata": {},
   "outputs": [
    {
     "name": "stdout",
     "output_type": "stream",
     "text": [
      "1 5\n",
      "2 10\n",
      "3 20\n",
      "4 40\n",
      "5 80\n",
      "6 160\n",
      "7 320\n",
      "8 640\n",
      "9 1280\n",
      "10 2560\n"
     ]
    }
   ],
   "source": [
    "a = 5\n",
    "r = 2\n",
    "\n",
    "print 1, a\n",
    "\n",
    "for i in range(2,11):\n",
    "    a = a * r\n",
    "    print i, a"
   ]
  },
  {
   "cell_type": "markdown",
   "metadata": {},
   "source": [
    "等比及數的第 $n$ 項為  \n",
    "$a_n = a_1 \\times r^{n-1}$"
   ]
  },
  {
   "cell_type": "code",
   "execution_count": 19,
   "metadata": {},
   "outputs": [
    {
     "data": {
      "text/plain": [
       "2560"
      ]
     },
     "execution_count": 19,
     "metadata": {},
     "output_type": "execute_result"
    }
   ],
   "source": [
    "a = 5\n",
    "r = 2\n",
    "a10 = a * r^(10-1)\n",
    "a10"
   ]
  },
  {
   "cell_type": "markdown",
   "metadata": {},
   "source": [
    "### 級數\n",
    "\n",
    "一個**級數**指的是一連串數字的和  \n",
    "$a_1+a_2+\\cdots +a_n$"
   ]
  },
  {
   "cell_type": "markdown",
   "metadata": {},
   "source": [
    "`sum` 函數可以計算列表中所有元素的總和"
   ]
  },
  {
   "cell_type": "code",
   "execution_count": 98,
   "metadata": {},
   "outputs": [
    {
     "data": {
      "text/plain": [
       "15"
      ]
     },
     "execution_count": 98,
     "metadata": {},
     "output_type": "execute_result"
    }
   ],
   "source": [
    "seq = [1,2,3,4,5]\n",
    "sum(seq)"
   ]
  },
  {
   "cell_type": "markdown",
   "metadata": {},
   "source": [
    "也可以利用迴圈來計算總和：\n",
    "\n",
    "設定 `total = 0`  \n",
    "每次把各個元素加進去 `total = total + i`"
   ]
  },
  {
   "cell_type": "code",
   "execution_count": 36,
   "metadata": {},
   "outputs": [
    {
     "data": {
      "text/plain": [
       "15"
      ]
     },
     "execution_count": 36,
     "metadata": {},
     "output_type": "execute_result"
    }
   ],
   "source": [
    "seq = [1,2,3,4,5]\n",
    "\n",
    "total = 0\n",
    "for i in seq:\n",
    "    total = total + i\n",
    "    \n",
    "total"
   ]
  },
  {
   "cell_type": "markdown",
   "metadata": {},
   "source": [
    "用迴圈來計算等差級數"
   ]
  },
  {
   "cell_type": "code",
   "execution_count": 56,
   "metadata": {},
   "outputs": [
    {
     "name": "stdout",
     "output_type": "stream",
     "text": [
      "1 5 5\n",
      "2 7 12\n",
      "3 9 21\n",
      "4 11 32\n",
      "5 13 45\n",
      "6 15 60\n",
      "7 17 77\n",
      "8 19 96\n",
      "9 21 117\n",
      "10 23 140\n"
     ]
    }
   ],
   "source": [
    "a = 5\n",
    "d = 2\n",
    "\n",
    "total = a\n",
    "print 1, a, total\n",
    "\n",
    "for i in range(2,11):\n",
    "    a = a + d\n",
    "    total = total + a\n",
    "    print i, a, total"
   ]
  },
  {
   "cell_type": "markdown",
   "metadata": {},
   "source": [
    "首項為 $a_1$ 而公差為 $d$ 的等差級數為  \n",
    "$a_1+\\cdots +a_n=\\frac{(a_1+a_n)\\times n}{2} = \\frac{(a_1+a_1+(n-1)d)\\times n}{2}$"
   ]
  },
  {
   "cell_type": "markdown",
   "metadata": {},
   "source": [
    "算出來答案應該要一樣"
   ]
  },
  {
   "cell_type": "code",
   "execution_count": 100,
   "metadata": {},
   "outputs": [
    {
     "data": {
      "text/plain": [
       "140"
      ]
     },
     "execution_count": 100,
     "metadata": {},
     "output_type": "execute_result"
    }
   ],
   "source": [
    "a = 5\n",
    "d = 2\n",
    "\n",
    "(a + a + (10 - 1)*d) * 10 / 2"
   ]
  },
  {
   "cell_type": "markdown",
   "metadata": {},
   "source": [
    "用迴圈來計算等比級數"
   ]
  },
  {
   "cell_type": "code",
   "execution_count": 101,
   "metadata": {},
   "outputs": [
    {
     "name": "stdout",
     "output_type": "stream",
     "text": [
      "1 5 5\n",
      "2 10 15\n",
      "3 20 35\n",
      "4 40 75\n",
      "5 80 155\n",
      "6 160 315\n",
      "7 320 635\n",
      "8 640 1275\n",
      "9 1280 2555\n",
      "10 2560 5115\n"
     ]
    }
   ],
   "source": [
    "a = 5\n",
    "r = 2\n",
    "\n",
    "total = a\n",
    "print 1, a, total\n",
    "\n",
    "for i in range(2,11):\n",
    "    a = a * r\n",
    "    total = total + a\n",
    "    print i, a, total"
   ]
  },
  {
   "cell_type": "markdown",
   "metadata": {},
   "source": [
    "首項為 $a_1$ 而公比為 $r$（$r\\neq 1$）的等比級數為  \n",
    "$a_1+\\cdots +a_n=a_1\\times \\frac{1-r^n}{1-r}$  \n",
    "\n",
    "若 $r=1$  \n",
    "則 $a_1+\\cdots +a_n=a_1+\\cdots +a_1=na_1$"
   ]
  },
  {
   "cell_type": "markdown",
   "metadata": {},
   "source": [
    "算出來答案應該要一樣"
   ]
  },
  {
   "cell_type": "code",
   "execution_count": 102,
   "metadata": {},
   "outputs": [
    {
     "data": {
      "text/plain": [
       "5115"
      ]
     },
     "execution_count": 102,
     "metadata": {},
     "output_type": "execute_result"
    }
   ],
   "source": [
    "a = 5\n",
    "r = 2\n",
    "\n",
    "a * ((1-r^10) / (1-r))"
   ]
  },
  {
   "cell_type": "markdown",
   "metadata": {},
   "source": [
    "### 列表推導（list comprehension）\n",
    "\n",
    "清單、列表"
   ]
  },
  {
   "cell_type": "code",
   "execution_count": 58,
   "metadata": {},
   "outputs": [
    {
     "data": {
      "text/plain": [
       "[2, 4, 6, 8, 10, 12, 14, 16, 18, 20]"
      ]
     },
     "execution_count": 58,
     "metadata": {},
     "output_type": "execute_result"
    }
   ],
   "source": [
    "seq = [2*k for k in range(1,11)]\n",
    "seq"
   ]
  },
  {
   "cell_type": "code",
   "execution_count": 60,
   "metadata": {},
   "outputs": [
    {
     "data": {
      "text/plain": [
       "[1, 4, 9, 16, 25, 36, 49, 64, 81, 100]"
      ]
     },
     "execution_count": 60,
     "metadata": {},
     "output_type": "execute_result"
    }
   ],
   "source": [
    "seq = [k^2 for k in range(1,11)]\n",
    "seq"
   ]
  },
  {
   "cell_type": "code",
   "execution_count": 61,
   "metadata": {},
   "outputs": [
    {
     "data": {
      "text/plain": [
       "110"
      ]
     },
     "execution_count": 61,
     "metadata": {},
     "output_type": "execute_result"
    }
   ],
   "source": [
    "seq = [2*k for k in range(1,11)]\n",
    "sum(seq)"
   ]
  },
  {
   "cell_type": "code",
   "execution_count": 62,
   "metadata": {},
   "outputs": [
    {
     "data": {
      "text/plain": [
       "385"
      ]
     },
     "execution_count": 62,
     "metadata": {},
     "output_type": "execute_result"
    }
   ],
   "source": [
    "seq = [k^2 for k in range(1,11)]\n",
    "sum(seq)"
   ]
  },
  {
   "cell_type": "code",
   "execution_count": 78,
   "metadata": {},
   "outputs": [
    {
     "data": {
      "text/plain": [
       "60"
      ]
     },
     "execution_count": 78,
     "metadata": {},
     "output_type": "execute_result"
    }
   ],
   "source": [
    "seq = [2*k for k in range(1,11) if k%2 == 0]\n",
    "sum(seq)"
   ]
  },
  {
   "cell_type": "code",
   "execution_count": 79,
   "metadata": {},
   "outputs": [
    {
     "data": {
      "text/plain": [
       "220"
      ]
     },
     "execution_count": 79,
     "metadata": {},
     "output_type": "execute_result"
    }
   ],
   "source": [
    "seq = [k^2 for k in range(1,11) if k%2 == 0]\n",
    "sum(seq)"
   ]
  },
  {
   "cell_type": "code",
   "execution_count": 42,
   "metadata": {},
   "outputs": [
    {
     "name": "stdout",
     "output_type": "stream",
     "text": [
      "x^10 + 10*x^9 + 45*x^8 + 120*x^7 + 210*x^6 + 252*x^5 + 210*x^4 + 120*x^3 + 45*x^2 + 10*x + 1\n",
      "210\n"
     ]
    }
   ],
   "source": [
    "x = var('x')\n",
    "a = 10\n",
    "b = 4\n",
    "\n",
    "p = expand((1+x)^a)\n",
    "\n",
    "print p\n",
    "print p.coefficient(x^b)"
   ]
  },
  {
   "cell_type": "code",
   "execution_count": 44,
   "metadata": {},
   "outputs": [
    {
     "data": {
      "text/plain": [
       "210"
      ]
     },
     "execution_count": 44,
     "metadata": {},
     "output_type": "execute_result"
    }
   ],
   "source": [
    "factorial(a)/factorial(a-b)/factorial(b)"
   ]
  },
  {
   "cell_type": "code",
   "execution_count": 43,
   "metadata": {},
   "outputs": [
    {
     "data": {
      "text/plain": [
       "210"
      ]
     },
     "execution_count": 43,
     "metadata": {},
     "output_type": "execute_result"
    }
   ],
   "source": [
    "binomial(10,4)"
   ]
  },
  {
   "cell_type": "markdown",
   "metadata": {},
   "source": [
    "## 排列組合"
   ]
  },
  {
   "cell_type": "code",
   "execution_count": 8,
   "metadata": {},
   "outputs": [
    {
     "name": "stdout",
     "output_type": "stream",
     "text": [
      "[1, 2]\n",
      "[1, 3]\n",
      "[1, 4]\n",
      "[1, 5]\n",
      "[2, 1]\n",
      "[2, 3]\n",
      "[2, 4]\n",
      "[2, 5]\n",
      "[3, 1]\n",
      "[3, 2]\n",
      "[3, 4]\n",
      "[3, 5]\n",
      "[4, 1]\n",
      "[4, 2]\n",
      "[4, 3]\n",
      "[4, 5]\n",
      "[5, 1]\n",
      "[5, 2]\n",
      "[5, 3]\n",
      "[5, 4]\n"
     ]
    }
   ],
   "source": [
    "elements = [1,2,3,4,5]\n",
    "for per in Permutations(elements,2):\n",
    "    print per"
   ]
  },
  {
   "cell_type": "code",
   "execution_count": 9,
   "metadata": {},
   "outputs": [
    {
     "data": {
      "text/plain": [
       "20"
      ]
     },
     "execution_count": 9,
     "metadata": {},
     "output_type": "execute_result"
    }
   ],
   "source": [
    "factorial(5)/factorial(5-2)"
   ]
  },
  {
   "cell_type": "code",
   "execution_count": 14,
   "metadata": {},
   "outputs": [
    {
     "name": "stdout",
     "output_type": "stream",
     "text": [
      "[1, 2]\n",
      "[1, 3]\n",
      "[1, 4]\n",
      "[1, 5]\n",
      "[2, 3]\n",
      "[2, 4]\n",
      "[2, 5]\n",
      "[3, 4]\n",
      "[3, 5]\n",
      "[4, 5]\n"
     ]
    }
   ],
   "source": [
    "elements = [1,2,3,4,5]\n",
    "for com in Combinations(elements,2):\n",
    "    print com"
   ]
  },
  {
   "cell_type": "code",
   "execution_count": 12,
   "metadata": {},
   "outputs": [
    {
     "data": {
      "text/plain": [
       "10"
      ]
     },
     "execution_count": 12,
     "metadata": {},
     "output_type": "execute_result"
    }
   ],
   "source": [
    "factorial(5)/factorial(5-2)/factorial(2)"
   ]
  },
  {
   "cell_type": "markdown",
   "metadata": {},
   "source": [
    "start counting"
   ]
  },
  {
   "cell_type": "code",
   "execution_count": 13,
   "metadata": {},
   "outputs": [
    {
     "name": "stdout",
     "output_type": "stream",
     "text": [
      "1\n",
      "14\n",
      "18\n",
      "27\n",
      "35\n",
      "40\n",
      "52\n",
      "53\n",
      "66\n",
      "69\n",
      "79\n",
      "86\n",
      "92\n"
     ]
    },
    {
     "data": {
      "text/plain": [
       "13"
      ]
     },
     "execution_count": 13,
     "metadata": {},
     "output_type": "execute_result"
    }
   ],
   "source": [
    "counter = 0\n",
    "\n",
    "for i in range(1,101):\n",
    "    if i%13 == 1 or i%17 == 1:\n",
    "        counter = counter + 1\n",
    "        print i\n",
    "\n",
    "counter"
   ]
  },
  {
   "cell_type": "code",
   "execution_count": 15,
   "metadata": {},
   "outputs": [
    {
     "data": {
      "text/plain": [
       "18"
      ]
     },
     "execution_count": 15,
     "metadata": {},
     "output_type": "execute_result"
    }
   ],
   "source": [
    "elements = [1,2,3,4,5]\n",
    "\n",
    "counter = 0\n",
    "for per in Permutations(elements,5):\n",
    "    if per[0] == 1 and per[4] != 5:\n",
    "        counter = counter + 1\n",
    "        #print per\n",
    "\n",
    "counter"
   ]
  },
  {
   "cell_type": "code",
   "execution_count": 17,
   "metadata": {},
   "outputs": [
    {
     "data": {
      "text/plain": [
       "30"
      ]
     },
     "execution_count": 17,
     "metadata": {},
     "output_type": "execute_result"
    }
   ],
   "source": [
    "elements = [1,1,2,2,3]\n",
    "\n",
    "counter = 0\n",
    "for per in Permutations(elements,5):\n",
    "    counter = counter + 1\n",
    "    #print per\n",
    "\n",
    "counter"
   ]
  },
  {
   "cell_type": "code",
   "execution_count": 19,
   "metadata": {},
   "outputs": [
    {
     "data": {
      "text/plain": [
       "3"
      ]
     },
     "execution_count": 19,
     "metadata": {},
     "output_type": "execute_result"
    }
   ],
   "source": [
    "elements = [1,2,3,4,5]\n",
    "\n",
    "counter = 0\n",
    "for com in Combinations(elements,3):\n",
    "    if 1 in com and 5 not in com:\n",
    "        counter = counter + 1\n",
    "        #print com\n",
    "\n",
    "counter"
   ]
  },
  {
   "cell_type": "code",
   "execution_count": 20,
   "metadata": {},
   "outputs": [
    {
     "data": {
      "text/plain": [
       "5"
      ]
     },
     "execution_count": 20,
     "metadata": {},
     "output_type": "execute_result"
    }
   ],
   "source": [
    "elements = [1,1,2,2,3]\n",
    "\n",
    "counter = 0\n",
    "for com in Combinations(elements,3):\n",
    "    counter = counter + 1\n",
    "    #print com\n",
    "\n",
    "counter"
   ]
  },
  {
   "cell_type": "code",
   "execution_count": 22,
   "metadata": {},
   "outputs": [
    {
     "data": {
      "text/plain": [
       "21"
      ]
     },
     "execution_count": 22,
     "metadata": {},
     "output_type": "execute_result"
    }
   ],
   "source": [
    "counter = 0\n",
    "\n",
    "for x in range(6):\n",
    "    for y in range(6):\n",
    "        for z in range(6):\n",
    "            if x + y + z == 5:\n",
    "                counter = counter + 1\n",
    "                #print x, y, z\n",
    "                \n",
    "counter"
   ]
  },
  {
   "cell_type": "code",
   "execution_count": 23,
   "metadata": {},
   "outputs": [
    {
     "data": {
      "text/plain": [
       "6"
      ]
     },
     "execution_count": 23,
     "metadata": {},
     "output_type": "execute_result"
    }
   ],
   "source": [
    "counter = 0\n",
    "\n",
    "for x in range(1,6):\n",
    "    for y in range(1,6):\n",
    "        for z in range(1,6):\n",
    "            if x + y + z == 5:\n",
    "                counter = counter + 1\n",
    "                #print x, y, z\n",
    "                \n",
    "counter"
   ]
  },
  {
   "cell_type": "code",
   "execution_count": 24,
   "metadata": {},
   "outputs": [
    {
     "data": {
      "text/plain": [
       "9"
      ]
     },
     "execution_count": 24,
     "metadata": {},
     "output_type": "execute_result"
    }
   ],
   "source": [
    "n = 100\n",
    "\n",
    "counter = 0\n",
    "\n",
    "for p in range(1,101):\n",
    "    if n % p == 0:\n",
    "        counter = counter + 1\n",
    "        #print p\n",
    "        \n",
    "counter"
   ]
  },
  {
   "cell_type": "code",
   "execution_count": 25,
   "metadata": {},
   "outputs": [
    {
     "data": {
      "text/plain": [
       "217"
      ]
     },
     "execution_count": 25,
     "metadata": {},
     "output_type": "execute_result"
    }
   ],
   "source": [
    "n = 100\n",
    "\n",
    "total = 0\n",
    "\n",
    "for p in range(1,101):\n",
    "    if n % p == 0:\n",
    "        total = total + p\n",
    "        #print p, total\n",
    "        \n",
    "total"
   ]
  },
  {
   "cell_type": "markdown",
   "metadata": {},
   "source": [
    "## 離散機率"
   ]
  },
  {
   "cell_type": "code",
   "execution_count": 26,
   "metadata": {},
   "outputs": [],
   "source": [
    "import random"
   ]
  },
  {
   "cell_type": "code",
   "execution_count": 28,
   "metadata": {},
   "outputs": [
    {
     "data": {
      "text/plain": [
       "4"
      ]
     },
     "execution_count": 28,
     "metadata": {},
     "output_type": "execute_result"
    }
   ],
   "source": [
    "numbers = [1,2,3,4,5,6]\n",
    "random.choice(numbers)"
   ]
  },
  {
   "cell_type": "code",
   "execution_count": 29,
   "metadata": {},
   "outputs": [],
   "source": [
    "def roll_a_dice():\n",
    "    return random.choice([1,2,3,4,5,6])"
   ]
  },
  {
   "cell_type": "code",
   "execution_count": 34,
   "metadata": {},
   "outputs": [
    {
     "data": {
      "text/plain": [
       "2"
      ]
     },
     "execution_count": 34,
     "metadata": {},
     "output_type": "execute_result"
    }
   ],
   "source": [
    "roll_a_dice()"
   ]
  },
  {
   "cell_type": "code",
   "execution_count": 37,
   "metadata": {},
   "outputs": [
    {
     "name": "stdout",
     "output_type": "stream",
     "text": [
      "出現次數 [1670, 1643, 1632, 1678, 1735, 1642]\n",
      "機率 [0.1670, 0.1643, 0.1632, 0.1678, 0.1735, 0.1642]\n"
     ]
    }
   ],
   "source": [
    "counter = [0,0,0,0,0,0]\n",
    "n = 10000\n",
    "\n",
    "for i in range(n):\n",
    "    k = roll_a_dice()\n",
    "    counter[k-1] = counter[k-1] + 1\n",
    "    # 骰子的數字是 1,2,3,4,5,6\n",
    "    # counter 的編號是 0,1,2,3,4,5\n",
    "    \n",
    "print '出現次數',counter\n",
    "print '機率', [N(count/n, digits=4) for count in counter]"
   ]
  },
  {
   "cell_type": "code",
   "execution_count": 67,
   "metadata": {},
   "outputs": [
    {
     "data": {
      "text/plain": [
       "1"
      ]
     },
     "execution_count": 67,
     "metadata": {},
     "output_type": "execute_result"
    }
   ],
   "source": [
    "random.randint(1,6)"
   ]
  },
  {
   "cell_type": "code",
   "execution_count": 56,
   "metadata": {},
   "outputs": [
    {
     "name": "stdout",
     "output_type": "stream",
     "text": [
      "25\n",
      "0.250000000000000\n"
     ]
    }
   ],
   "source": [
    "counter = 0\n",
    "\n",
    "for i in range(1,101):\n",
    "    if is_prime(i):\n",
    "        counter = counter + 1\n",
    "        \n",
    "print counter\n",
    "print N(counter/100)"
   ]
  },
  {
   "cell_type": "code",
   "execution_count": 68,
   "metadata": {},
   "outputs": [],
   "source": [
    "def prime_in_K(K=100):\n",
    "    p = random.randint(1,K)\n",
    "    return is_prime(p)"
   ]
  },
  {
   "cell_type": "code",
   "execution_count": 77,
   "metadata": {},
   "outputs": [
    {
     "data": {
      "text/plain": [
       "0.00290000000000000"
      ]
     },
     "execution_count": 77,
     "metadata": {},
     "output_type": "execute_result"
    }
   ],
   "source": [
    "K = 100\n",
    "n = 10000\n",
    "\n",
    "counter = 0\n",
    "\n",
    "for i in range(K):\n",
    "    if prime_in_K():\n",
    "        counter = counter + 1\n",
    "        \n",
    "N(counter / n)"
   ]
  },
  {
   "cell_type": "markdown",
   "metadata": {},
   "source": [
    "monty hall"
   ]
  },
  {
   "cell_type": "code",
   "execution_count": 84,
   "metadata": {},
   "outputs": [
    {
     "data": {
      "text/plain": [
       "False"
      ]
     },
     "execution_count": 84,
     "metadata": {},
     "output_type": "execute_result"
    }
   ],
   "source": [
    "doors = [1,2,3]\n",
    "car = random.choice(doors)\n",
    "player_choose = random.choice(doors)\n",
    "\n",
    "no_car_no_choose = [door for door in doors if door != car and door != player_choose]\n",
    "host_open = random.choice(no_car_no_choose)\n",
    "\n",
    "no_choose_no_open = [door for door in doors if door != player_choose and door != host_open]\n",
    "player_change = no_choose_no_open[0]\n",
    "\n",
    "player_change == car"
   ]
  },
  {
   "cell_type": "code",
   "execution_count": 85,
   "metadata": {},
   "outputs": [],
   "source": [
    "def Monty_Hall_game():\n",
    "    doors = [1,2,3]\n",
    "    car = random.choice(doors)\n",
    "    player_choose = random.choice(doors)\n",
    "\n",
    "    no_car_no_choose = [door for door in doors if door != car and door != player_choose]\n",
    "    host_open = random.choice(no_car_no_choose)\n",
    "\n",
    "    no_choose_no_open = [door for door in doors if door != player_choose and door != host_open]\n",
    "    player_change = no_choose_no_open[0]\n",
    "\n",
    "    return player_change == car"
   ]
  },
  {
   "cell_type": "code",
   "execution_count": 86,
   "metadata": {},
   "outputs": [
    {
     "data": {
      "text/plain": [
       "0.666600000000000"
      ]
     },
     "execution_count": 86,
     "metadata": {},
     "output_type": "execute_result"
    }
   ],
   "source": [
    "n = 10000\n",
    "\n",
    "counter = 0\n",
    "for i in range(n):\n",
    "    if Monty_Hall_game():\n",
    "        counter = counter + 1\n",
    "\n",
    "N(counter / n)"
   ]
  },
  {
   "cell_type": "markdown",
   "metadata": {},
   "source": [
    "##  動手試試看"
   ]
  },
  {
   "cell_type": "markdown",
   "metadata": {},
   "source": [
    "##### 練習\n"
   ]
  },
  {
   "cell_type": "markdown",
   "metadata": {},
   "source": [
    "(Sequences and Combinatorics: sequences and series;combinatorics;discrete probability.  list, for loop, sequence, fibonacci, series, counting, multiply, add, binomial coefficients, counting numbers, probability, Monty Hall & Fall, basic statistics)"
   ]
  },
  {
   "cell_type": "markdown",
   "metadata": {},
   "source": [
    "monty fall"
   ]
  }
 ],
 "metadata": {
  "kernelspec": {
   "display_name": "SageMath 8.7",
   "language": "",
   "name": "sagemath"
  },
  "language_info": {
   "codemirror_mode": {
    "name": "ipython",
    "version": 2
   },
   "file_extension": ".py",
   "mimetype": "text/x-python",
   "name": "python",
   "nbconvert_exporter": "python",
   "pygments_lexer": "ipython2",
   "version": "2.7.16"
  }
 },
 "nbformat": 4,
 "nbformat_minor": 2
}
