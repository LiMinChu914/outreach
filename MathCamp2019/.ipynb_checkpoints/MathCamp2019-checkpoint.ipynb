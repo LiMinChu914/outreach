{
 "cells": [
  {
   "cell_type": "markdown",
   "metadata": {},
   "source": [
    "# MathCamp 2019 | NSYSU\n",
    "\n",
    "This file was built on  \n",
    "* SageMath 8.6 \n",
    "* Jupyter 4.4.0\n",
    "* CoCalc \n",
    "\n",
    "Thanks to these softwares this lecture was made possible."
   ]
  },
  {
   "cell_type": "markdown",
   "metadata": {},
   "source": [
    "## Outline\n",
    "1. Eulerian circuit\n",
    "2. Euler's polyhedron formula\n",
    "3. Searching algorithm"
   ]
  },
  {
   "cell_type": "markdown",
   "metadata": {},
   "source": [
    "## Eulerian circuit\n",
    "\n",
    "Leonhard Euler (1707&ndash;1783)\n",
    "![Euler](Euler.png \"Leonhard Euler\")\n",
    "\n",
    "(Portrait by Jakob Emanuel Handmann  \n",
    "Source: [Wikipedia: Leonhard Euler](https://en.wikipedia.org/wiki/Leonhard_Euler))"
   ]
  },
  {
   "cell_type": "markdown",
   "metadata": {},
   "source": [
    "In Euler's time,  \n",
    "Königsberg is a city in Prussia (now Kaliningrad, Russia).  \n",
    "Pregel River cuts through the city and has two large islands on the river.  \n",
    "There are seven bridges in the city.  \n",
    "\n",
    "In 1736, Euler was pondering a question:\n",
    "Can one walk through all the seven bridges exactly once and go back to the starting point?"
   ]
  },
  {
   "cell_type": "markdown",
   "metadata": {},
   "source": [
    "![7bridges](7bridges.png  \"Seven Bridges of Königsberg\")\n",
    "(Source: [Wikipedia: Seven Bridges of Königsberg](https://en.wikipedia.org/wiki/Seven_Bridges_of_K%C3%B6nigsberg))"
   ]
  },
  {
   "cell_type": "markdown",
   "metadata": {},
   "source": [
    "A **graph** consist of a set of **vertices** $V$ and a set of **edges** $E$.\n",
    "\n",
    "Each edge is incident to two vertices.\n",
    "\n",
    "You may play around a graph on Radoslav Kirov's [JavaScript Graph Editor](https://radokirov.com/graph-editor.js/)."
   ]
  },
  {
   "cell_type": "code",
   "execution_count": null,
   "metadata": {
    "scrolled": false
   },
   "outputs": [],
   "source": [
    "V = [1,2,3,4] ### four vertices\n",
    "E = [(1,2,'e1'),(1,2,'e2'),(1,3,'e3'),(1,3,'e4'),(1,4,'e5'),(2,4,'e6'),(3,4,'e7')] ### seven edges\n",
    "pos = {1: (0,0), 2: (1,1), 3: (1,-1), 4: (2,0)}\n",
    "G = Graph([V,E], multiedges=True, pos=pos)\n",
    "G.show(figsize=[3,3],edge_labels=True)"
   ]
  },
  {
   "cell_type": "code",
   "execution_count": null,
   "metadata": {},
   "outputs": [],
   "source": [
    "G.eulerian_circuit()"
   ]
  },
  {
   "cell_type": "code",
   "execution_count": null,
   "metadata": {},
   "outputs": [],
   "source": [
    "V = [1,2,3,4] ### four vertices\n",
    "E = [(1,2,'e1'),(1,2,'e2'),(1,3,'e3'),(1,3,'e4'),(2,3,'e5'),(2,4,'e6'),(3,4,'e7')] ### seven edges\n",
    "pos = {1: (0,0), 2: (1,1), 3: (1,-1), 4: (2,0)}\n",
    "H = Graph([V,E], multiedges=True, pos=pos)\n",
    "H.show(figsize=[3,3],edge_labels=True)"
   ]
  },
  {
   "cell_type": "code",
   "execution_count": null,
   "metadata": {},
   "outputs": [],
   "source": [
    "H.eulerian_circuit()"
   ]
  },
  {
   "cell_type": "code",
   "execution_count": null,
   "metadata": {},
   "outputs": [],
   "source": [
    "walk_on_graph(G)"
   ]
  },
  {
   "cell_type": "markdown",
   "metadata": {},
   "source": [
    "A **walk** is a sequence of edge $v_1v_2, v_2v_3, v_3v_4, \\ldots$.  \n",
    "A **closed walk** is a walk whose end point is its start point.\n",
    "\n",
    "An **Eulerian circuit** on a graph $G$ is a closed walk that  \n",
    "pass through each edge of $G$ exactly once.\n",
    "\n",
    "The **degree** of a vertex is the number of edges incident to it."
   ]
  },
  {
   "cell_type": "markdown",
   "metadata": {},
   "source": [
    "#### Observation\n",
    "If a graph has an Eulerian circuit,  \n",
    "then every vertex has _even_ degree."
   ]
  },
  {
   "cell_type": "markdown",
   "metadata": {},
   "source": [
    "#### Corollary\n",
    "The graph of the seven bridges of Königsberg  \n",
    "does not have an Eulerian circuit."
   ]
  },
  {
   "cell_type": "markdown",
   "metadata": {},
   "source": [
    "#### Definition\n",
    "A graph is **connected**  \n",
    "if for any two vertices $i$ and $j$  \n",
    "there is a walk going from $i$ to $j$."
   ]
  },
  {
   "cell_type": "code",
   "execution_count": null,
   "metadata": {},
   "outputs": [],
   "source": [
    "sshow(graphs.CycleGraph(4),'connected')\n",
    "\n",
    "sshow(graphs.CycleGraph(3).disjoint_union(graphs.CycleGraph(3)),'not connected')"
   ]
  },
  {
   "cell_type": "markdown",
   "metadata": {},
   "source": [
    "#### Observation\n",
    "If a graph has an Eulerian circuit,  \n",
    "then it is _connected_."
   ]
  },
  {
   "cell_type": "markdown",
   "metadata": {},
   "source": [
    "#### Theorem (Euler 1736)\n",
    "If a graph is connected and every vertex has even degree,  \n",
    "then it has an Eulerian circuit."
   ]
  },
  {
   "cell_type": "markdown",
   "metadata": {},
   "source": [
    "Question:  Try to find an Eulerian circuit in the following graph."
   ]
  },
  {
   "cell_type": "code",
   "execution_count": null,
   "metadata": {},
   "outputs": [],
   "source": [
    "g = Graph([five_V, sum(five_E,[])], pos=five_pos)\n",
    "pic1 = g.plot(figsize=[3,3])\n",
    "pic1.show()"
   ]
  },
  {
   "cell_type": "code",
   "execution_count": null,
   "metadata": {},
   "outputs": [],
   "source": [
    "center_walk = DiGraph([five_V,five_E[0]], pos=five_pos)\n",
    "pic1 += center_walk.plot(figsize=[3,3], edge_color='red')\n",
    "pic1.axes(False)\n",
    "pic1.show(title='Not always work')"
   ]
  },
  {
   "cell_type": "markdown",
   "metadata": {},
   "source": [
    "#### Observation\n",
    "Let $G$ be a graph.  \n",
    "If every vertex of $G$ has even degree,  \n",
    "then by removing the edges of a closed walk from a graph,  \n",
    "every vertex of the new graph still has even degree."
   ]
  },
  {
   "cell_type": "code",
   "execution_count": null,
   "metadata": {},
   "outputs": [],
   "source": [
    "@interact\n",
    "\n",
    "def _(step=slider(list(range(10)))):\n",
    "    base = step // 2\n",
    "    has_walk = step % 2\n",
    "    base_graph = Graph([five_V,sum(five_E[base:],[])], pos=five_pos)\n",
    "    pic1 = base_graph.plot(figsize=[3,3])\n",
    "    if has_walk:\n",
    "        walk_graph = DiGraph([five_V,five_E[base]], pos=five_pos)\n",
    "        pic1 += walk_graph.plot(figsize = [3,3], edge_color = rainbow(5)[base])\n",
    "    pic1.axes(False)\n",
    "    pic1.show()"
   ]
  },
  {
   "cell_type": "code",
   "execution_count": null,
   "metadata": {},
   "outputs": [],
   "source": [
    "base_graph = Graph([five_V,sum(five_E,[])], pos=five_pos)\n",
    "walk_graph = DiGraph([five_V,sum(five_E,[])], pos=five_pos)\n",
    "pic1 = base_graph.plot(figsize=[3,3])\n",
    "pic1 += walk_graph.plot(figsize = [3,3], edge_colors={rainbow(5)[k]: five_E[k] for k in range(5)} )\n",
    "pic1.axes(False)\n",
    "pic1.show()"
   ]
  },
  {
   "cell_type": "markdown",
   "metadata": {},
   "source": [
    "#### Proof of Euler's Theorem\n",
    "**Assumption:**  \n",
    "1. Every vertex of $G$ has even degree\n",
    "2. $G$ is connected\n",
    "\n",
    "**Algorithm:**  \n",
    "1. Partition the edges of $G$ into several closed walks.  \\[By Assumption 1\\]\n",
    "2. Start from any closed walk\n",
    "3. When encouter a new clowed walk, **finish the new walk first**.\n",
    "4. Eventually, all closed walks will be connected \\[By Assumption 2\\]\n",
    "5. An Eulerian circuit found!\n",
    "\n",
    "![Algorithm for finding an Eulerian circuit](five_eulerian.gif)"
   ]
  },
  {
   "cell_type": "markdown",
   "metadata": {},
   "source": [
    "## Euler's polyhedron formula\n",
    "Suppose a polyhedron has $V$ vertices, $E$ edges, and $F$ faces.  \n",
    "Then $V-E+F = 2$."
   ]
  },
  {
   "cell_type": "code",
   "execution_count": null,
   "metadata": {
    "scrolled": false
   },
   "outputs": [],
   "source": [
    "@interact\n",
    "def _(\n",
    "    faces = selector([4,6,8,12,20], buttons=True)\n",
    "    ):\n",
    "    f_to_g = {4: graphs.TetrahedralGraph(), 6: graphs.HexahedralGraph(), 8: graphs.OctahedralGraph(), 12: graphs.DodecahedralGraph(), 20: graphs.IcosahedralGraph()}\n",
    "    g = f_to_g[faces]\n",
    "    print('V - E + F = {} - {} + {} = {}'.format(g.order(), g.size(), faces, g.order() - g.size() + faces))\n",
    "    g.plot3d().show()"
   ]
  },
  {
   "cell_type": "markdown",
   "metadata": {},
   "source": [
    "#### Corollary\n",
    "There are only five platonic solids."
   ]
  },
  {
   "cell_type": "markdown",
   "metadata": {},
   "source": [
    "#### Proof\n",
    "The face can be a triangle, a square, or a pentagon.  \n",
    "Let $k$ be the number of the degree of each vertex.\n",
    "\n",
    "**Case 1.  Triangle**\n",
    "$3F = 2E$, so $F = \\frac{2}{3}E$.  \n",
    "Since the angle of a triangle is $60^\\circ$, $k$ can be $3,4,5$.  \n",
    "\n",
    "**Case 1a.  $k=3$**  \n",
    "$3V = 2E$, so $V = \\frac{2}{3}E$.  \n",
    "Thus,  \n",
    "$V-E+F = \\frac{2}{3}E - E + \\frac{2}{3}E = 2$.  \n",
    "This means  \n",
    "$2E - 3E + 2E = 6$ and $E = 6$.  \n",
    "**So** $V=4, E=6, F=4$: tetra\n",
    "\n",
    "**Case 1b.  $k=4$**  \n",
    "$4V = 2E$, so $V = \\frac{1}{2}E$.  \n",
    "Thus,  \n",
    "$V-E+F = \\frac{1}{2}E - E + \\frac{2}{3}E = 2$.  \n",
    "This means  \n",
    "$3E - 6E + 4E = 12$ and $E = 12$.  \n",
    "**So** $V=6, E=12, F=8$: oct\n",
    "\n",
    "**Case 1c.  $k=5$**  \n",
    "$5V = 2E$, so $V = \\frac{2}{5}E$.  \n",
    "Thus,  \n",
    "$V-E+F = \\frac{2}{5}E - E + \\frac{2}{3}E = 2$.  \n",
    "This means  \n",
    "$6E - 15E + 10E = 30$ and $E = 30$.  \n",
    "**So** $V=12, E=30, F=20$: ico\n",
    "\n",
    "**Case 2.  Square**\n",
    "$4F = 2E$, so $F = \\frac{1}{2}E$.  \n",
    "Since the angle of a triangle is $90^\\circ$, $k$ has to be $3$.  \n",
    "Thus,  \n",
    "$3V = 2E$, so $V = \\frac{2}{3}E$.  \n",
    "Thus,  \n",
    "$V-E+F = \\frac{2}{3}E - E + \\frac{1}{2}E = 2$.  \n",
    "This means  \n",
    "$4E - 6E + 3E = 12$ and $E = 12$.  \n",
    "**So** $V=8, E=12, F=6$: hex\n",
    "\n",
    "**Case 3.  Pentagon**\n",
    "$5F = 2E$, so $F = \\frac{2}{5}E$.  \n",
    "Since the angle of a triangle is $108^\\circ$, $k$ has to be $3$.  \n",
    "Thus,  \n",
    "$3V = 2E$, so $V = \\frac{2}{3}E$.  \n",
    "Thus,  \n",
    "$V-E+F = \\frac{2}{3}E - E + \\frac{2}{5}E = 2$.  \n",
    "This means  \n",
    "$10E - 15E + 6E = 30$ and $E = 30$.  \n",
    "**So** $V=20, E=30, F=12$: dod\n",
    "\n",
    "This completes the proof!"
   ]
  },
  {
   "cell_type": "markdown",
   "metadata": {},
   "source": [
    "#### Observation  \n",
    "Every polygon can be embedded on a plane with an **outer face**."
   ]
  },
  {
   "cell_type": "markdown",
   "metadata": {},
   "source": [
    "![Platonic solids on a plane](planar_solids.gif \"Platonic solids on a plane\")\n",
    "\n"
   ]
  },
  {
   "cell_type": "markdown",
   "metadata": {},
   "source": [
    "graph_editor()"
   ]
  },
  {
   "cell_type": "markdown",
   "metadata": {},
   "source": [
    "#### Definition\n",
    "A **planar graph** is a graph that can be embedded on a plane without its edges crossing. "
   ]
  },
  {
   "cell_type": "markdown",
   "metadata": {},
   "source": [
    "Every plantonic soild is a planar graph.\n",
    "\n",
    "Any **Cycle** is a planar graph."
   ]
  },
  {
   "cell_type": "code",
   "execution_count": null,
   "metadata": {},
   "outputs": [],
   "source": [
    "multi_sshow([graphs.CycleGraph(k).graph6_string() for k in range(3,8)])"
   ]
  },
  {
   "cell_type": "markdown",
   "metadata": {},
   "source": [
    "#### Theorem  \n",
    "Let $G$ be a connected graph that contains a cycle.  \n",
    "If $G$ is a plane gaph with $V$ vertices, $E$ edges, and $F$ faces,  \n",
    "then $V-E+F=2$."
   ]
  },
  {
   "cell_type": "markdown",
   "metadata": {},
   "source": [
    "#### Observation  \n",
    "A cycle on $n$ vertices has $V-E+F = n-n+2 = 2$."
   ]
  },
  {
   "cell_type": "markdown",
   "metadata": {},
   "source": [
    "#### Observation\n",
    "Let $G$ be a graph that satisfies all conditions in Theorem.  \n",
    "Then one may construct $G$ from a cycle by only two operations:  \n",
    "1. add a new vertex and join it to an existing edge\n",
    "2. add a new edge\n",
    "\n",
    "Try it on Radoslav Kirov's [JavaScript Graph Editor](https://radokirov.com/graph-editor.js/)."
   ]
  },
  {
   "cell_type": "markdown",
   "metadata": {},
   "source": [
    "#### Proof of Theorem\n",
    "Prove by induction!  \n",
    "Action 1: $V'=V+1$, $E'=E+1$, and $F'=F$, so $V'-E'+F' = (V+1)-(E+1)+F = 2$.  \n",
    "Action 2: $V'=V$, $E'=E+1$, and $F'=F+1$, so $V'-E'+F' = V-(E+1)+(F+1) = 2$."
   ]
  },
  {
   "cell_type": "markdown",
   "metadata": {},
   "source": [
    "## Graph coloring\n",
    "\n",
    "Some stories:  \n",
    "In 1852, **Francis Guthrie** noticed that the map of the counties of England can be colored by **four colors** only.  \n",
    "Francis told his brother, and his brother told his advisor **Augustus De Morgan**.  \n",
    "\n",
    "> **Question:**  Can every map be colored by **four colors** so that adjacent countries have different colors?\n",
    "\n",
    "Many attempts were made to prove (or disprove) this statement.  \n",
    "**Alfred Kempe** gave a proof in **1879**;  \n",
    "**Peter Guthrie Tait** gave another proof in **1880**.  \n",
    "**Percy Heawood** found a mistake in Kempe's proof in **1890**;  \n",
    "**Julius Petersen** found a mistake in Tait's proof in **1891**."
   ]
  },
  {
   "cell_type": "markdown",
   "metadata": {},
   "source": [
    "![A world map in four colors](world_map_four_colors.png \"A world map in four colors\")\n",
    "\n",
    "(Source:  [Wikipedia: Four color theorem](https://en.wikipedia.org/wiki/Four_color_theorem))"
   ]
  },
  {
   "cell_type": "markdown",
   "metadata": {},
   "source": [
    "![Simplify a map to a planar graph](color_planar.png \"Simplify a map to a planar graph\")\n",
    "\n",
    "(Source:  [Wikipedia: Four color theorem](https://en.wikipedia.org/wiki/Four_color_theorem))"
   ]
  },
  {
   "cell_type": "markdown",
   "metadata": {},
   "source": [
    "The map coloring problem is converted to\n",
    "> **Question:**  Can every planar graph be colored by **four colors** so that adjacent verties have different colors?"
   ]
  },
  {
   "cell_type": "code",
   "execution_count": null,
   "metadata": {},
   "outputs": [],
   "source": [
    "g = graphs.TetrahedralGraph()\n",
    "g.set_pos({0:(0,0), 1:(0,1), 2:(0.8,-0.5), 3:(-0.8,-0.5)})\n",
    "illustrate_FS(g,0,'BFS',searching_tree=False,coloring=True)"
   ]
  },
  {
   "cell_type": "code",
   "execution_count": null,
   "metadata": {},
   "outputs": [],
   "source": [
    "g = graphs.HexahedralGraph()\n",
    "g.set_pos({0:(0,3), 1:(3,3), 2:(3,0), 3:(0,0), 4:(1,2), 5:(2,2), 6:(2,1), 7:(1,1)})\n",
    "illustrate_FS(g,0,'BFS',searching_tree=False,coloring=True)"
   ]
  },
  {
   "cell_type": "code",
   "execution_count": null,
   "metadata": {},
   "outputs": [],
   "source": [
    "g = graphs.OctahedralGraph()\n",
    "illustrate_FS(g,0,'BFS',searching_tree=False,coloring=True)"
   ]
  },
  {
   "cell_type": "code",
   "execution_count": null,
   "metadata": {},
   "outputs": [],
   "source": [
    "g = graphs.DodecahedralGraph()\n",
    "illustrate_FS(g, 0, 'BFS', searching_tree=False, coloring=True)"
   ]
  },
  {
   "cell_type": "markdown",
   "metadata": {},
   "source": [
    "**Coloring problem on a graph**  \n",
    "\n",
    "What is the minimum number of colors required to color vertices of a graph,  \n",
    "so that adjacent vertices have different colors?\n",
    "\n",
    "The minimum number of colors required is called the **chromatic number** $\\chi(G)$."
   ]
  },
  {
   "cell_type": "code",
   "execution_count": null,
   "metadata": {
    "scrolled": true
   },
   "outputs": [],
   "source": [
    "g = graphs.DodecahedralGraph()\n",
    "g.show(vertex_colors=g.coloring(hex_colors=True))"
   ]
  },
  {
   "cell_type": "code",
   "execution_count": null,
   "metadata": {},
   "outputs": [],
   "source": [
    "g = graphs.IcosahedralGraph()\n",
    "g.show(vertex_colors=g.coloring(hex_colors=True))"
   ]
  },
  {
   "cell_type": "markdown",
   "metadata": {},
   "source": [
    "#### Four color theorem (Robertson, Sanders, Seymour, and Thomas 1997)\n",
    "Every planar graph can be colored by four colors."
   ]
  },
  {
   "cell_type": "markdown",
   "metadata": {},
   "source": [
    "**The proof relies on computers.**"
   ]
  },
  {
   "cell_type": "markdown",
   "metadata": {},
   "source": [
    "## Searching algorithm\n",
    "The purpose of a searching algorithm is  \n",
    "to go through every vertex (or edges or both) in a systematic way.  \n",
    "\n",
    "Here we introduce two important type.:\n",
    "1. Depth-first search\n",
    "2. Breadth-first search"
   ]
  },
  {
   "cell_type": "markdown",
   "metadata": {},
   "source": [
    "This graph is called the **Petersen graph**."
   ]
  },
  {
   "cell_type": "code",
   "execution_count": null,
   "metadata": {},
   "outputs": [],
   "source": [
    "g = graphs.PetersenGraph()\n",
    "g.show()"
   ]
  },
  {
   "cell_type": "markdown",
   "metadata": {},
   "source": [
    "**Depth-first search** (DFS)  \n",
    "Go as deep as possible.  \n",
    "If no more, return to the previous vertex that can go deeper.  \n",
    "\n",
    "Example: Solving a maze."
   ]
  },
  {
   "cell_type": "code",
   "execution_count": 2,
   "metadata": {},
   "outputs": [
    {
     "data": {
      "application/vnd.jupyter.widget-view+json": {
       "model_id": "5f12c5ddd6a1492ca9cecee991397eb8",
       "version_major": 2,
       "version_minor": 0
      },
      "text/plain": [
       "SW50ZXJhY3RpdmUgZnVuY3Rpb24gPGZ1bmN0aW9uIF8gYXQgMHg3ZjgzZWFhYmY1Nzg+IHdpdGggMiB3aWRnZXRzCiAgc3RlcDogU2VsZWN0aW9uU2xpZGVyKGRlc2NyaXB0aW9uPXUnc3RlcCfigKY=\n"
      ]
     },
     "metadata": {},
     "output_type": "display_data"
    }
   ],
   "source": [
    "g = graphs.PetersenGraph()\n",
    "v = 0\n",
    "illustrate_FS(g, v, 'DFS')"
   ]
  },
  {
   "cell_type": "markdown",
   "metadata": {},
   "source": [
    "**Breadth-first search** (BFS)  \n",
    "Go through all neighbors first.  \n",
    "If no more, go to the first searched vertex that still has an unsearched neighbor.\n",
    "\n",
    "Example: Finding the distance."
   ]
  },
  {
   "cell_type": "code",
   "execution_count": 4,
   "metadata": {},
   "outputs": [
    {
     "data": {
      "application/vnd.jupyter.widget-view+json": {
       "model_id": "a392d3140c7e44edaeab09fc841e37db",
       "version_major": 2,
       "version_minor": 0
      },
      "text/plain": [
       "SW50ZXJhY3RpdmUgZnVuY3Rpb24gPGZ1bmN0aW9uIF8gYXQgMHg3ZjgzZTdlM2QzOTg+IHdpdGggMiB3aWRnZXRzCiAgc3RlcDogU2VsZWN0aW9uU2xpZGVyKGRlc2NyaXB0aW9uPXUnc3RlcCfigKY=\n"
      ]
     },
     "metadata": {},
     "output_type": "display_data"
    }
   ],
   "source": [
    "g = graphs.PetersenGraph()\n",
    "v = 0\n",
    "illustrate_FS(g, v, 'BFS')"
   ]
  },
  {
   "cell_type": "markdown",
   "metadata": {},
   "source": [
    "**Greedy coloring algorithm**  \n",
    "Fix an order of the vertices.  \n",
    "Give the first available color to each vertex in order.  "
   ]
  },
  {
   "cell_type": "code",
   "execution_count": 7,
   "metadata": {},
   "outputs": [
    {
     "data": {
      "application/vnd.jupyter.widget-view+json": {
       "model_id": "119c4eb22940458cb45d4a47833e0506",
       "version_major": 2,
       "version_minor": 0
      },
      "text/plain": [
       "SW50ZXJhY3RpdmUgZnVuY3Rpb24gPGZ1bmN0aW9uIF8gYXQgMHg3ZjgzZTdhZjJjZjg+IHdpdGggMiB3aWRnZXRzCiAgc3RlcDogU2VsZWN0aW9uU2xpZGVyKGRlc2NyaXB0aW9uPXUnc3RlcCfigKY=\n"
      ]
     },
     "metadata": {},
     "output_type": "display_data"
    }
   ],
   "source": [
    "g = graphs.PetersenGraph()\n",
    "v = 0\n",
    "illustrate_FS(g, v, 'BFS', coloring=True)"
   ]
  },
  {
   "cell_type": "code",
   "execution_count": null,
   "metadata": {},
   "outputs": [],
   "source": [
    "g = graphs.PetersenGraph()\n",
    "v = 0\n",
    "illustrate_FS(g, v, 'DFS', coloring=True)"
   ]
  },
  {
   "cell_type": "markdown",
   "metadata": {},
   "source": [
    "Different order gives different coloring and uses different number of colors."
   ]
  },
  {
   "cell_type": "markdown",
   "metadata": {},
   "source": [
    "The **degree** of a vertex is the number of edges incident to it.  \n",
    "Let $\\Delta(G)$ be the **maximum degree** of the graph $G$.  \n",
    "Let $\\delta(G)$ be the **minimum degree** of the graph $G$."
   ]
  },
  {
   "cell_type": "markdown",
   "metadata": {},
   "source": [
    "#### Observation\n",
    "By the greedy coloring algorithm (with any vertex order),  \n",
    "$\\chi(G)\\leq \\Delta(G)+1$."
   ]
  },
  {
   "cell_type": "markdown",
   "metadata": {},
   "source": [
    "An **odd cycle** $C_{2k+1}$ has  \n",
    "$\\Delta(C_{2k+1})=2$ and  \n",
    "$\\chi(C_{2k+1})=2+1=3$."
   ]
  },
  {
   "cell_type": "code",
   "execution_count": 8,
   "metadata": {},
   "outputs": [
    {
     "data": {
      "application/vnd.jupyter.widget-view+json": {
       "model_id": "d1913d8e2b354e9e9dbaf244a86a65dc",
       "version_major": 2,
       "version_minor": 0
      },
      "text/plain": [
       "SW50ZXJhY3RpdmUgZnVuY3Rpb24gPGZ1bmN0aW9uIF8gYXQgMHg3Zjg1ZTI2Y2ZjMDg+IHdpdGggMiB3aWRnZXRzCiAgc3RlcDogU2VsZWN0aW9uU2xpZGVyKGRlc2NyaXB0aW9uPXUnc3RlcCfigKY=\n"
      ]
     },
     "metadata": {},
     "output_type": "display_data"
    }
   ],
   "source": [
    "g = graphs.CycleGraph(5)\n",
    "illustrate_FS(g, 0, 'DFS', searching_tree=False, coloring=True)"
   ]
  },
  {
   "cell_type": "markdown",
   "metadata": {},
   "source": [
    "An **complete graph** (all edges occur) $K_n$ has  \n",
    "$\\Delta(K_n)=n-1$ and  \n",
    "$\\chi(K_n)=n-1 + 1=n$."
   ]
  },
  {
   "cell_type": "code",
   "execution_count": 9,
   "metadata": {},
   "outputs": [
    {
     "data": {
      "image/png": "[encoded data removed]",
      "text/plain": [
       "Graphics object consisting of 16 graphics primitives"
      ]
     },
     "metadata": {},
     "output_type": "display_data"
    }
   ],
   "source": [
    "g = graphs.CompleteGraph(5)\n",
    "g.show(vertex_colors=g.coloring(hex_colors=True))"
   ]
  },
  {
   "cell_type": "markdown",
   "metadata": {},
   "source": [
    "#### Brook's theorem\n",
    "If $G$ is not a complete graph and not an odd cycle,  \n",
    "then $\\chi(G)\\leq \\Delta(G)$."
   ]
  },
  {
   "cell_type": "markdown",
   "metadata": {},
   "source": [
    "**The proof requires DFS.**"
   ]
  },
  {
   "cell_type": "markdown",
   "metadata": {},
   "source": [
    "**Enjoy!  Thanks!**"
   ]
  },
  {
   "cell_type": "code",
   "execution_count": null,
   "metadata": {},
   "outputs": [],
   "source": []
  },
  {
   "cell_type": "markdown",
   "metadata": {},
   "source": [
    "**Below is not part of the lecture**"
   ]
  },
  {
   "cell_type": "markdown",
   "metadata": {},
   "source": []
  },
  {
   "cell_type": "code",
   "execution_count": 1,
   "metadata": {},
   "outputs": [
    {
     "name": "stdout",
     "output_type": "stream",
     "text": [
      "---sshow, multi_sshow, tuple_generator, minimal_graphs, empty_array, all_one_matrix, elementary_matrix, eigens_multi, sort_dictionary, has_minor, etc.\n"
     ]
    }
   ],
   "source": [
    "### Necessary code:  Run this cell first!\n",
    "\n",
    "load(\"https://raw.githubusercontent.com/jephianlin/minimum_rank_aux/master/general_Lib.sage\");\n",
    "\n",
    "five_V = list(range(1,17))\n",
    "five_E = [[(6,7),(7,11),(11,10),(10,6)],[(1,2),(2,6),(6,5),(5,1)],[(3,4),(4,8),(8,7),(7,3)],[(9,10),(10,14),(14,13),(13,9)],[(11,12),(12,16),(16,15),(15,11)]]\n",
    "five_pos = {k: ((k-1) % 4, -((k-1) // 4) ) for k in five_V}\n",
    "\n",
    "def walk_on_graph(G):\n",
    "    ### edges of g has to be labeled as e1,...,em. \n",
    "    walked = []\n",
    "    m = G.size()\n",
    "    n = G.order()\n",
    "    V = G.vertices()\n",
    "    E = G.edges()\n",
    "    \n",
    "    @interact\n",
    "    def _(\n",
    "        next_step = selector(['e{}'.format(k) for k in range(1,m+1)], buttons=True),\n",
    "        new_game = selector(['restart', 'continue'], default = 'continue', buttons=True)\n",
    "        ):\n",
    "        if new_game == 'continue':\n",
    "            if next_step not in walked:\n",
    "                walked.append(next_step)\n",
    "        if new_game == 'restart':\n",
    "            while walked:\n",
    "                discard = walked.pop()\n",
    "        print(walked)\n",
    "        walked_edges = [edge for edge in E if edge[2] in walked]\n",
    "        G.show(figsize=[3,3],edge_labels=True, edge_colors={'red': walked_edges})\n",
    "        \n",
    "def DFS_tree(g, v):\n",
    "    searched = []\n",
    "    arcs = []\n",
    "    for new in g.depth_first_search(v):\n",
    "        if searched:\n",
    "            for i in range(1,len(searched)+1):\n",
    "                if g.has_edge(new,searched[-i]):\n",
    "                    parent = searched[-i]\n",
    "                    break;\n",
    "            arcs.append((parent,new))\n",
    "        searched.append(new)\n",
    "    return arcs\n",
    "\n",
    "def BFS_tree(g, v):\n",
    "    searched = []\n",
    "    arcs = []\n",
    "    for new in g.breadth_first_search(v):\n",
    "        if searched:\n",
    "            for i in range(len(searched)):\n",
    "                if g.has_edge(new,searched[i]):\n",
    "                    parent = searched[i]\n",
    "                    break;\n",
    "            arcs.append((parent,new))\n",
    "        searched.append(new)\n",
    "    return arcs\n",
    "\n",
    "def greedy_coloring(g, color_order=None):\n",
    "    n = g.order()\n",
    "    ### ideally, len(color_order) == n\n",
    "    if color_order == None:\n",
    "        color_order = g.vertices()\n",
    "    color_order = list(color_order) ### change the type in case it is a generator\n",
    "    num_c = {k: [] for k in range(n)}\n",
    "    for s in range(n):\n",
    "        new = color_order[s]\n",
    "        for k in range(n):\n",
    "            for u in num_c[k]:\n",
    "                if g.has_edge(u,new):\n",
    "                    break;\n",
    "            else:\n",
    "                num_c[k].append(new)\n",
    "                break;\n",
    "    num_c_used = [k for k in range(n) if num_c[k]]\n",
    "    greedy_chi = len(num_c_used)\n",
    "    colors = rainbow(greedy_chi) \n",
    "    c = {colors[k]: num_c[k] for k in range(greedy_chi)}\n",
    "    return c\n",
    "\n",
    "def illustrate_FS(g, v, alg='DFS', searching_tree=True, coloring=False):\n",
    "    ### g should have its position saved\n",
    "    ### if not do g.plot(save_pos) first\n",
    "    if alg == 'DFS':\n",
    "        arcs = DFS_tree(g,v)\n",
    "        full_name = 'Depth-First Search at {}'.format(v)\n",
    "    if alg == 'BFS':\n",
    "        arcs = BFS_tree(g,v)\n",
    "        full_name = 'Breadth-First Search at {}'.format(v)\n",
    "    steps = len(arcs)\n",
    "    pic1 = g.plot()\n",
    "    \n",
    "    if coloring:\n",
    "        color_order = [v] + [arc[1] for arc in arcs]\n",
    "        c = greedy_coloring(g, color_order)\n",
    "    else:\n",
    "        c = {}\n",
    "        \n",
    "    @interact\n",
    "    def _(step=slider(list(range(steps+1))), t = text_control(full_name)):\n",
    "        g_pos = g.get_pos()\n",
    "        arcs_show = arcs[:step] if searching_tree else []\n",
    "        pic2 = DiGraph([g.vertices(),arcs_show], pos=g_pos).plot(edge_color='red', vertex_colors=c)\n",
    "        unreached = [arc[1] for arc in arcs[step:]]\n",
    "        cover = Graph([unreached,[]], pos={u: g_pos[u] for u in unreached}).plot()\n",
    "        p = pic1 + pic2 + cover\n",
    "        p.axes(False)\n",
    "        p.show()"
   ]
  },
  {
   "cell_type": "code",
   "execution_count": null,
   "metadata": {},
   "outputs": [],
   "source": [
    "### No need to run this cell\n",
    "### Code for generating the five_eulerian.gif\n",
    "\n",
    "# a = sum(five_E,[])\n",
    "# b = sum([[rainbow(5)[k]] * 4 for k in range(5)],[])\n",
    "# zip(a,b)\n",
    "\n",
    "enc = [\n",
    " ((13, 9), '#0066ff'),    \n",
    " ((9, 10), '#0066ff'),\n",
    " ((10, 6), '#ff0000'),\n",
    " ((6, 5), '#cbff00'),\n",
    " ((5, 1), '#cbff00'),\n",
    " ((1, 2), '#cbff00'),\n",
    " ((2, 6), '#cbff00'),\n",
    " ((6, 7), '#ff0000'),\n",
    " ((7, 3), '#00ff66'),\n",
    " ((3, 4), '#00ff66'),    \n",
    " ((4, 8), '#00ff66'),\n",
    " ((8, 7), '#00ff66'),    \n",
    " ((7, 11), '#ff0000'),\n",
    " ((11, 12), '#cc00ff'),\n",
    " ((12, 16), '#cc00ff'),\n",
    " ((16, 15), '#cc00ff'),\n",
    " ((15, 11), '#cc00ff'),    \n",
    " ((11, 10), '#ff0000'),\n",
    " ((10, 14), '#0066ff'),\n",
    " ((14, 13), '#0066ff')\n",
    "]\n",
    "\n",
    "def categorize(partial_enc):\n",
    "    c = {}\n",
    "    for pair in partial_enc:\n",
    "        if pair[1] not in c.keys():\n",
    "            c[pair[1]] = [pair[0]]\n",
    "        else:\n",
    "            c[pair[1]].append(pair[0])\n",
    "    return c\n",
    "\n",
    "pics = []\n",
    "\n",
    "for i in range(21):\n",
    "    E = [pair[0] for pair in enc[:i]]\n",
    "    base_graph = Graph([five_V, sum(five_E,[])], pos=five_pos)\n",
    "    pic1 = base_graph.plot(figsize=[3,3])\n",
    "    c = categorize(enc[:i])\n",
    "\n",
    "    walk_graph = DiGraph([five_V, E], pos=five_pos)\n",
    "    pic1 += walk_graph.plot(figsize=[3,3], edge_colors=c)\n",
    "    pic1.axes(False)\n",
    "    pics.append(pic1)\n",
    "    #pic1.show()\n",
    "    \n",
    "five_animate = animate((pic for pic in pics))\n",
    "five_animate\n",
    "\n",
    "#five_animate.gif(savefile='five_eulerian_test.gif')"
   ]
  },
  {
   "cell_type": "code",
   "execution_count": null,
   "metadata": {},
   "outputs": [],
   "source": [
    "five_animate.gif(savefile='five_eulerian_test.gif')"
   ]
  },
  {
   "cell_type": "code",
   "execution_count": null,
   "metadata": {},
   "outputs": [],
   "source": []
  }
 ],
 "metadata": {
  "kernelspec": {
   "display_name": "SageMath (stable)",
   "language": "sagemath",
   "name": "sagemath"
  },
  "language_info": {
   "codemirror_mode": {
    "name": "ipython",
    "version": 2
   },
   "file_extension": ".py",
   "mimetype": "text/x-python",
   "name": "python",
   "nbconvert_exporter": "python",
   "pygments_lexer": "ipython2",
   "version": "2.7.15"
  }
 },
 "nbformat": 4,
 "nbformat_minor": 2
}
